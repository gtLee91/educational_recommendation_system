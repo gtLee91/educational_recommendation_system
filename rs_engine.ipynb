{
 "cells": [
  {
   "cell_type": "code",
   "execution_count": 1,
   "id": "fba6f609-81d8-4252-98be-d70186ba0255",
   "metadata": {},
   "outputs": [],
   "source": [
    "#Dependencies\n",
    "import pandas as pd\n",
    "import numpy as np\n",
    "#from scipy.sparse.linalg import svds\n",
    "from sklearn.model_selection import train_test_split\n",
    "import tensorflow as tf\n",
    "from torch.utils.data import DataLoader, TensorDataset\n",
    "import itertools\n",
    "import os\n",
    "\n",
    "from sqlalchemy import create_engine\n",
    "from sklearn.preprocessing import LabelEncoder\n",
    "\n",
    "\n",
    "import torch\n",
    "import torch.nn as nn\n",
    "import torch.nn.functional as F\n",
    "import torch.optim as optim\n",
    "\n",
    "import tqdm\n",
    "import matplotlib.pyplot as plt"
   ]
  },
  {
   "cell_type": "code",
   "execution_count": 4,
   "id": "85de675f",
   "metadata": {},
   "outputs": [
    {
     "data": {
      "text/html": [
       "<div>\n",
       "<style scoped>\n",
       "    .dataframe tbody tr th:only-of-type {\n",
       "        vertical-align: middle;\n",
       "    }\n",
       "\n",
       "    .dataframe tbody tr th {\n",
       "        vertical-align: top;\n",
       "    }\n",
       "\n",
       "    .dataframe thead th {\n",
       "        text-align: right;\n",
       "    }\n",
       "</style>\n",
       "<table border=\"1\" class=\"dataframe\">\n",
       "  <thead>\n",
       "    <tr style=\"text-align: right;\">\n",
       "      <th></th>\n",
       "      <th>item</th>\n",
       "      <th>cs_title</th>\n",
       "      <th>cs_category</th>\n",
       "      <th>cs_topic</th>\n",
       "      <th>cs_level</th>\n",
       "      <th>cs_style</th>\n",
       "    </tr>\n",
       "  </thead>\n",
       "  <tbody>\n",
       "    <tr>\n",
       "      <th>0</th>\n",
       "      <td>1</td>\n",
       "      <td>Write to Score High on the IELTS and TOEFL</td>\n",
       "      <td>ielts</td>\n",
       "      <td>writing</td>\n",
       "      <td>beginner</td>\n",
       "      <td>explanation</td>\n",
       "    </tr>\n",
       "    <tr>\n",
       "      <th>1</th>\n",
       "      <td>2</td>\n",
       "      <td>Mastering IELTS Writing: Task 2 (Achieve Band 7+)</td>\n",
       "      <td>ielts</td>\n",
       "      <td>writing</td>\n",
       "      <td>intermediate</td>\n",
       "      <td>explanation</td>\n",
       "    </tr>\n",
       "    <tr>\n",
       "      <th>2</th>\n",
       "      <td>3</td>\n",
       "      <td>Get 7 - 9 in IELTS Speaking: IELTS Speaking Ma...</td>\n",
       "      <td>ielts</td>\n",
       "      <td>speaking</td>\n",
       "      <td>advanced</td>\n",
       "      <td>example</td>\n",
       "    </tr>\n",
       "    <tr>\n",
       "      <th>3</th>\n",
       "      <td>4</td>\n",
       "      <td>IELTS Writing: Achieve A Target 8 Score!</td>\n",
       "      <td>ielts</td>\n",
       "      <td>writing</td>\n",
       "      <td>advanced</td>\n",
       "      <td>example</td>\n",
       "    </tr>\n",
       "    <tr>\n",
       "      <th>4</th>\n",
       "      <td>5</td>\n",
       "      <td>Advanced IELTS Writing Process by Melbourne En...</td>\n",
       "      <td>ielts</td>\n",
       "      <td>writing</td>\n",
       "      <td>advanced</td>\n",
       "      <td>example</td>\n",
       "    </tr>\n",
       "    <tr>\n",
       "      <th>...</th>\n",
       "      <td>...</td>\n",
       "      <td>...</td>\n",
       "      <td>...</td>\n",
       "      <td>...</td>\n",
       "      <td>...</td>\n",
       "      <td>...</td>\n",
       "    </tr>\n",
       "    <tr>\n",
       "      <th>317</th>\n",
       "      <td>318</td>\n",
       "      <td>Succeed in IELTS Speaking and Writing (Achieve...</td>\n",
       "      <td>ielts</td>\n",
       "      <td>writing,speaking</td>\n",
       "      <td>intermediate</td>\n",
       "      <td>explanation</td>\n",
       "    </tr>\n",
       "    <tr>\n",
       "      <th>318</th>\n",
       "      <td>319</td>\n",
       "      <td>IELTS Band 7+ in Hindi - The Ultimate course</td>\n",
       "      <td>ielts</td>\n",
       "      <td>writing,speaking,reading,listening</td>\n",
       "      <td>intermediate</td>\n",
       "      <td>example</td>\n",
       "    </tr>\n",
       "    <tr>\n",
       "      <th>319</th>\n",
       "      <td>320</td>\n",
       "      <td>Vocabulary for IELTS (Speaking skill)</td>\n",
       "      <td>ielts</td>\n",
       "      <td>vocabulary</td>\n",
       "      <td>beginner</td>\n",
       "      <td>example</td>\n",
       "    </tr>\n",
       "    <tr>\n",
       "      <th>320</th>\n",
       "      <td>321</td>\n",
       "      <td>PTE Ultimate Self-Preparation Resource</td>\n",
       "      <td>pte</td>\n",
       "      <td>writing,speaking,reading,listening</td>\n",
       "      <td>advanced</td>\n",
       "      <td>example</td>\n",
       "    </tr>\n",
       "    <tr>\n",
       "      <th>321</th>\n",
       "      <td>322</td>\n",
       "      <td>IELTS Speaking - Full Answers to Speaking Ques...</td>\n",
       "      <td>ielts</td>\n",
       "      <td>speaking</td>\n",
       "      <td>intermediate</td>\n",
       "      <td>example</td>\n",
       "    </tr>\n",
       "  </tbody>\n",
       "</table>\n",
       "<p>322 rows × 6 columns</p>\n",
       "</div>"
      ],
      "text/plain": [
       "     item                                           cs_title cs_category  \\\n",
       "0       1         Write to Score High on the IELTS and TOEFL       ielts   \n",
       "1       2  Mastering IELTS Writing: Task 2 (Achieve Band 7+)       ielts   \n",
       "2       3  Get 7 - 9 in IELTS Speaking: IELTS Speaking Ma...       ielts   \n",
       "3       4           IELTS Writing: Achieve A Target 8 Score!       ielts   \n",
       "4       5  Advanced IELTS Writing Process by Melbourne En...       ielts   \n",
       "..    ...                                                ...         ...   \n",
       "317   318  Succeed in IELTS Speaking and Writing (Achieve...       ielts   \n",
       "318   319       IELTS Band 7+ in Hindi - The Ultimate course       ielts   \n",
       "319   320              Vocabulary for IELTS (Speaking skill)       ielts   \n",
       "320   321             PTE Ultimate Self-Preparation Resource         pte   \n",
       "321   322  IELTS Speaking - Full Answers to Speaking Ques...       ielts   \n",
       "\n",
       "                               cs_topic      cs_level     cs_style  \n",
       "0                               writing      beginner  explanation  \n",
       "1                               writing  intermediate  explanation  \n",
       "2                              speaking      advanced      example  \n",
       "3                               writing      advanced      example  \n",
       "4                               writing      advanced      example  \n",
       "..                                  ...           ...          ...  \n",
       "317                    writing,speaking  intermediate  explanation  \n",
       "318  writing,speaking,reading,listening  intermediate      example  \n",
       "319                          vocabulary      beginner      example  \n",
       "320  writing,speaking,reading,listening      advanced      example  \n",
       "321                            speaking  intermediate      example  \n",
       "\n",
       "[322 rows x 6 columns]"
      ]
     },
     "execution_count": 4,
     "metadata": {},
     "output_type": "execute_result"
    }
   ],
   "source": [
    "cs_data_csv = pd.read_csv('data/course_information.csv')\n",
    "cs_data = pd.DataFrame(cs_data_csv)\n",
    "cs_data = cs_data.drop(['cs_content', 'cs_rating'], axis=1)\n",
    "cs_data.rename(columns={'cs_num': 'item'}, inplace=True)\n",
    "cs_data"
   ]
  },
  {
   "cell_type": "code",
   "execution_count": 5,
   "id": "a6380b5d-6e62-4d02-9e0a-6fd368b57387",
   "metadata": {},
   "outputs": [
    {
     "data": {
      "text/html": [
       "<div>\n",
       "<style scoped>\n",
       "    .dataframe tbody tr th:only-of-type {\n",
       "        vertical-align: middle;\n",
       "    }\n",
       "\n",
       "    .dataframe tbody tr th {\n",
       "        vertical-align: top;\n",
       "    }\n",
       "\n",
       "    .dataframe thead th {\n",
       "        text-align: right;\n",
       "    }\n",
       "</style>\n",
       "<table border=\"1\" class=\"dataframe\">\n",
       "  <thead>\n",
       "    <tr style=\"text-align: right;\">\n",
       "      <th></th>\n",
       "      <th>user</th>\n",
       "      <th>item</th>\n",
       "      <th>rating</th>\n",
       "      <th>timestamp</th>\n",
       "    </tr>\n",
       "  </thead>\n",
       "  <tbody>\n",
       "    <tr>\n",
       "      <th>0</th>\n",
       "      <td>1</td>\n",
       "      <td>316</td>\n",
       "      <td>1</td>\n",
       "      <td>1517927386</td>\n",
       "    </tr>\n",
       "    <tr>\n",
       "      <th>1</th>\n",
       "      <td>1</td>\n",
       "      <td>282</td>\n",
       "      <td>1</td>\n",
       "      <td>1643498109</td>\n",
       "    </tr>\n",
       "    <tr>\n",
       "      <th>2</th>\n",
       "      <td>1</td>\n",
       "      <td>290</td>\n",
       "      <td>1</td>\n",
       "      <td>1568400900</td>\n",
       "    </tr>\n",
       "    <tr>\n",
       "      <th>3</th>\n",
       "      <td>1</td>\n",
       "      <td>126</td>\n",
       "      <td>1</td>\n",
       "      <td>1591605461</td>\n",
       "    </tr>\n",
       "    <tr>\n",
       "      <th>4</th>\n",
       "      <td>1</td>\n",
       "      <td>217</td>\n",
       "      <td>2</td>\n",
       "      <td>1643591923</td>\n",
       "    </tr>\n",
       "    <tr>\n",
       "      <th>...</th>\n",
       "      <td>...</td>\n",
       "      <td>...</td>\n",
       "      <td>...</td>\n",
       "      <td>...</td>\n",
       "    </tr>\n",
       "    <tr>\n",
       "      <th>88990</th>\n",
       "      <td>5000</td>\n",
       "      <td>3</td>\n",
       "      <td>5</td>\n",
       "      <td>1476793303</td>\n",
       "    </tr>\n",
       "    <tr>\n",
       "      <th>88991</th>\n",
       "      <td>5000</td>\n",
       "      <td>156</td>\n",
       "      <td>5</td>\n",
       "      <td>1589457567</td>\n",
       "    </tr>\n",
       "    <tr>\n",
       "      <th>88992</th>\n",
       "      <td>5000</td>\n",
       "      <td>295</td>\n",
       "      <td>5</td>\n",
       "      <td>1538393338</td>\n",
       "    </tr>\n",
       "    <tr>\n",
       "      <th>88993</th>\n",
       "      <td>5000</td>\n",
       "      <td>42</td>\n",
       "      <td>5</td>\n",
       "      <td>1591434166</td>\n",
       "    </tr>\n",
       "    <tr>\n",
       "      <th>88994</th>\n",
       "      <td>5000</td>\n",
       "      <td>58</td>\n",
       "      <td>5</td>\n",
       "      <td>1482446296</td>\n",
       "    </tr>\n",
       "  </tbody>\n",
       "</table>\n",
       "<p>88995 rows × 4 columns</p>\n",
       "</div>"
      ],
      "text/plain": [
       "       user  item  rating   timestamp\n",
       "0         1   316       1  1517927386\n",
       "1         1   282       1  1643498109\n",
       "2         1   290       1  1568400900\n",
       "3         1   126       1  1591605461\n",
       "4         1   217       2  1643591923\n",
       "...     ...   ...     ...         ...\n",
       "88990  5000     3       5  1476793303\n",
       "88991  5000   156       5  1589457567\n",
       "88992  5000   295       5  1538393338\n",
       "88993  5000    42       5  1591434166\n",
       "88994  5000    58       5  1482446296\n",
       "\n",
       "[88995 rows x 4 columns]"
      ]
     },
     "execution_count": 5,
     "metadata": {},
     "output_type": "execute_result"
    }
   ],
   "source": [
    "cs_rating = pd.read_csv('data/user_ratings.csv')\n",
    "cs_rating_df = pd.DataFrame(cs_rating)\n",
    "cs_rating_df.rename(columns={'UserID': 'user'}, inplace=True)\n",
    "cs_rating_df.rename(columns={'Rating': 'rating'}, inplace=True)\n",
    "cs_rating_df.rename(columns={'Timestamp': 'timestamp'}, inplace=True)\n",
    "cs_rating_df.rename(columns={'CourseID': 'item'}, inplace=True)\n",
    "cs_rating_df"
   ]
  },
  {
   "cell_type": "code",
   "execution_count": 6,
   "id": "258bceee-e395-4ae5-b6fb-cd6e6f555bf7",
   "metadata": {},
   "outputs": [
    {
     "data": {
      "text/html": [
       "<div>\n",
       "<style scoped>\n",
       "    .dataframe tbody tr th:only-of-type {\n",
       "        vertical-align: middle;\n",
       "    }\n",
       "\n",
       "    .dataframe tbody tr th {\n",
       "        vertical-align: top;\n",
       "    }\n",
       "\n",
       "    .dataframe thead th {\n",
       "        text-align: right;\n",
       "    }\n",
       "</style>\n",
       "<table border=\"1\" class=\"dataframe\">\n",
       "  <thead>\n",
       "    <tr style=\"text-align: right;\">\n",
       "      <th></th>\n",
       "      <th>user</th>\n",
       "      <th>gender</th>\n",
       "      <th>age</th>\n",
       "      <th>pf_category</th>\n",
       "      <th>pf_topic</th>\n",
       "      <th>pf_style</th>\n",
       "      <th>pf_level</th>\n",
       "      <th>aimscore</th>\n",
       "    </tr>\n",
       "  </thead>\n",
       "  <tbody>\n",
       "    <tr>\n",
       "      <th>0</th>\n",
       "      <td>1</td>\n",
       "      <td>Female</td>\n",
       "      <td>26</td>\n",
       "      <td>ielts</td>\n",
       "      <td>vocabulary,grammar,speaking</td>\n",
       "      <td>example</td>\n",
       "      <td>intermediate</td>\n",
       "      <td>6.0</td>\n",
       "    </tr>\n",
       "    <tr>\n",
       "      <th>1</th>\n",
       "      <td>2</td>\n",
       "      <td>Male</td>\n",
       "      <td>29</td>\n",
       "      <td>ielts</td>\n",
       "      <td>vocabulary,writing</td>\n",
       "      <td>explanation</td>\n",
       "      <td>beginner</td>\n",
       "      <td>5.0</td>\n",
       "    </tr>\n",
       "    <tr>\n",
       "      <th>2</th>\n",
       "      <td>3</td>\n",
       "      <td>Female</td>\n",
       "      <td>53</td>\n",
       "      <td>ielts</td>\n",
       "      <td>speaking,reading</td>\n",
       "      <td>example</td>\n",
       "      <td>beginner</td>\n",
       "      <td>5.5</td>\n",
       "    </tr>\n",
       "    <tr>\n",
       "      <th>3</th>\n",
       "      <td>4</td>\n",
       "      <td>Female</td>\n",
       "      <td>26</td>\n",
       "      <td>ielts</td>\n",
       "      <td>writing,reading</td>\n",
       "      <td>example</td>\n",
       "      <td>beginner</td>\n",
       "      <td>7.5</td>\n",
       "    </tr>\n",
       "    <tr>\n",
       "      <th>4</th>\n",
       "      <td>5</td>\n",
       "      <td>Male</td>\n",
       "      <td>21</td>\n",
       "      <td>ielts</td>\n",
       "      <td>reading,grammar</td>\n",
       "      <td>explanation</td>\n",
       "      <td>intermediate</td>\n",
       "      <td>6.0</td>\n",
       "    </tr>\n",
       "    <tr>\n",
       "      <th>...</th>\n",
       "      <td>...</td>\n",
       "      <td>...</td>\n",
       "      <td>...</td>\n",
       "      <td>...</td>\n",
       "      <td>...</td>\n",
       "      <td>...</td>\n",
       "      <td>...</td>\n",
       "      <td>...</td>\n",
       "    </tr>\n",
       "    <tr>\n",
       "      <th>4995</th>\n",
       "      <td>4996</td>\n",
       "      <td>Female</td>\n",
       "      <td>60</td>\n",
       "      <td>ielts</td>\n",
       "      <td>reading</td>\n",
       "      <td>example</td>\n",
       "      <td>advanced</td>\n",
       "      <td>5.0</td>\n",
       "    </tr>\n",
       "    <tr>\n",
       "      <th>4996</th>\n",
       "      <td>4997</td>\n",
       "      <td>Female</td>\n",
       "      <td>29</td>\n",
       "      <td>ielts</td>\n",
       "      <td>reading,grammar</td>\n",
       "      <td>explanation</td>\n",
       "      <td>beginner</td>\n",
       "      <td>6.0</td>\n",
       "    </tr>\n",
       "    <tr>\n",
       "      <th>4997</th>\n",
       "      <td>4998</td>\n",
       "      <td>Male</td>\n",
       "      <td>42</td>\n",
       "      <td>ielts</td>\n",
       "      <td>listening</td>\n",
       "      <td>example</td>\n",
       "      <td>advanced</td>\n",
       "      <td>5.0</td>\n",
       "    </tr>\n",
       "    <tr>\n",
       "      <th>4998</th>\n",
       "      <td>4999</td>\n",
       "      <td>Female</td>\n",
       "      <td>34</td>\n",
       "      <td>ielts</td>\n",
       "      <td>speaking,grammar</td>\n",
       "      <td>example</td>\n",
       "      <td>intermediate</td>\n",
       "      <td>5.5</td>\n",
       "    </tr>\n",
       "    <tr>\n",
       "      <th>4999</th>\n",
       "      <td>5000</td>\n",
       "      <td>Male</td>\n",
       "      <td>47</td>\n",
       "      <td>ielts</td>\n",
       "      <td>speaking</td>\n",
       "      <td>example</td>\n",
       "      <td>advanced</td>\n",
       "      <td>7.0</td>\n",
       "    </tr>\n",
       "  </tbody>\n",
       "</table>\n",
       "<p>5000 rows × 8 columns</p>\n",
       "</div>"
      ],
      "text/plain": [
       "      user  gender  age pf_category                     pf_topic     pf_style  \\\n",
       "0        1  Female   26       ielts  vocabulary,grammar,speaking      example   \n",
       "1        2    Male   29       ielts           vocabulary,writing  explanation   \n",
       "2        3  Female   53       ielts             speaking,reading      example   \n",
       "3        4  Female   26       ielts              writing,reading      example   \n",
       "4        5    Male   21       ielts              reading,grammar  explanation   \n",
       "...    ...     ...  ...         ...                          ...          ...   \n",
       "4995  4996  Female   60       ielts                      reading      example   \n",
       "4996  4997  Female   29       ielts              reading,grammar  explanation   \n",
       "4997  4998    Male   42       ielts                    listening      example   \n",
       "4998  4999  Female   34       ielts             speaking,grammar      example   \n",
       "4999  5000    Male   47       ielts                     speaking      example   \n",
       "\n",
       "          pf_level  aimscore  \n",
       "0     intermediate       6.0  \n",
       "1         beginner       5.0  \n",
       "2         beginner       5.5  \n",
       "3         beginner       7.5  \n",
       "4     intermediate       6.0  \n",
       "...            ...       ...  \n",
       "4995      advanced       5.0  \n",
       "4996      beginner       6.0  \n",
       "4997      advanced       5.0  \n",
       "4998  intermediate       5.5  \n",
       "4999      advanced       7.0  \n",
       "\n",
       "[5000 rows x 8 columns]"
      ]
     },
     "execution_count": 6,
     "metadata": {},
     "output_type": "execute_result"
    }
   ],
   "source": [
    "user_profile = pd.read_csv('data/user_profiles.csv')\n",
    "user_profile_df = pd.DataFrame(user_profile)\n",
    "user_profile_df.rename(columns={'UserID': 'user'}, inplace=True)\n",
    "user_profile_df.rename(columns={'PreferredCategory': 'pf_category'}, inplace=True)\n",
    "user_profile_df.rename(columns={'PreferredTopic': 'pf_topic'}, inplace=True)\n",
    "user_profile_df.rename(columns={'Level': 'pf_level'}, inplace=True)\n",
    "user_profile_df.rename(columns={'PreferredStyle': 'pf_style'}, inplace=True)\n",
    "user_profile_df.rename(columns={'AimScore': 'aimscore'}, inplace=True)\n",
    "user_profile_df.rename(columns={'Gender': 'gender'}, inplace=True)\n",
    "user_profile_df.rename(columns={'Age': 'age'}, inplace=True)\n",
    "user_profile_df"
   ]
  },
  {
   "cell_type": "code",
   "execution_count": 7,
   "id": "675911ea-bafc-4027-af16-aeee68642a4a",
   "metadata": {},
   "outputs": [
    {
     "data": {
      "text/html": [
       "<div>\n",
       "<style scoped>\n",
       "    .dataframe tbody tr th:only-of-type {\n",
       "        vertical-align: middle;\n",
       "    }\n",
       "\n",
       "    .dataframe tbody tr th {\n",
       "        vertical-align: top;\n",
       "    }\n",
       "\n",
       "    .dataframe thead th {\n",
       "        text-align: right;\n",
       "    }\n",
       "</style>\n",
       "<table border=\"1\" class=\"dataframe\">\n",
       "  <thead>\n",
       "    <tr style=\"text-align: right;\">\n",
       "      <th></th>\n",
       "      <th>user</th>\n",
       "      <th>item</th>\n",
       "      <th>rating</th>\n",
       "      <th>cs_title</th>\n",
       "      <th>cs_category</th>\n",
       "      <th>cs_topic</th>\n",
       "      <th>cs_style</th>\n",
       "      <th>cs_level</th>\n",
       "      <th>pf_category</th>\n",
       "      <th>pf_topic</th>\n",
       "      <th>pf_style</th>\n",
       "      <th>pf_level</th>\n",
       "      <th>aimscore</th>\n",
       "      <th>age</th>\n",
       "      <th>gender</th>\n",
       "      <th>timestamp</th>\n",
       "    </tr>\n",
       "  </thead>\n",
       "  <tbody>\n",
       "    <tr>\n",
       "      <th>0</th>\n",
       "      <td>35</td>\n",
       "      <td>1</td>\n",
       "      <td>5</td>\n",
       "      <td>Write to Score High on the IELTS and TOEFL</td>\n",
       "      <td>ielts</td>\n",
       "      <td>writing</td>\n",
       "      <td>explanation</td>\n",
       "      <td>beginner</td>\n",
       "      <td>ielts</td>\n",
       "      <td>grammar,writing</td>\n",
       "      <td>explanation</td>\n",
       "      <td>beginner</td>\n",
       "      <td>7.0</td>\n",
       "      <td>45</td>\n",
       "      <td>Female</td>\n",
       "      <td>1474383913</td>\n",
       "    </tr>\n",
       "    <tr>\n",
       "      <th>1</th>\n",
       "      <td>35</td>\n",
       "      <td>55</td>\n",
       "      <td>5</td>\n",
       "      <td>IELTS Writing Task 1 (General): Master Letter ...</td>\n",
       "      <td>ielts</td>\n",
       "      <td>writing</td>\n",
       "      <td>explanation</td>\n",
       "      <td>beginner</td>\n",
       "      <td>ielts</td>\n",
       "      <td>grammar,writing</td>\n",
       "      <td>explanation</td>\n",
       "      <td>beginner</td>\n",
       "      <td>7.0</td>\n",
       "      <td>45</td>\n",
       "      <td>Female</td>\n",
       "      <td>1655916839</td>\n",
       "    </tr>\n",
       "    <tr>\n",
       "      <th>2</th>\n",
       "      <td>35</td>\n",
       "      <td>59</td>\n",
       "      <td>4</td>\n",
       "      <td>Father IELTS -- Test Preparation</td>\n",
       "      <td>ielts</td>\n",
       "      <td>writing,speaking,reading,listening</td>\n",
       "      <td>example</td>\n",
       "      <td>beginner</td>\n",
       "      <td>ielts</td>\n",
       "      <td>grammar,writing</td>\n",
       "      <td>explanation</td>\n",
       "      <td>beginner</td>\n",
       "      <td>7.0</td>\n",
       "      <td>45</td>\n",
       "      <td>Female</td>\n",
       "      <td>1645231900</td>\n",
       "    </tr>\n",
       "    <tr>\n",
       "      <th>3</th>\n",
       "      <td>35</td>\n",
       "      <td>67</td>\n",
       "      <td>5</td>\n",
       "      <td>Prepare for IELTS</td>\n",
       "      <td>ielts</td>\n",
       "      <td>writing,speaking,reading,listening</td>\n",
       "      <td>explanation</td>\n",
       "      <td>beginner</td>\n",
       "      <td>ielts</td>\n",
       "      <td>grammar,writing</td>\n",
       "      <td>explanation</td>\n",
       "      <td>beginner</td>\n",
       "      <td>7.0</td>\n",
       "      <td>45</td>\n",
       "      <td>Female</td>\n",
       "      <td>1599096320</td>\n",
       "    </tr>\n",
       "    <tr>\n",
       "      <th>4</th>\n",
       "      <td>35</td>\n",
       "      <td>72</td>\n",
       "      <td>5</td>\n",
       "      <td>IELTS Academic</td>\n",
       "      <td>ielts</td>\n",
       "      <td>writing,speaking,reading,listening</td>\n",
       "      <td>explanation</td>\n",
       "      <td>beginner</td>\n",
       "      <td>ielts</td>\n",
       "      <td>grammar,writing</td>\n",
       "      <td>explanation</td>\n",
       "      <td>beginner</td>\n",
       "      <td>7.0</td>\n",
       "      <td>45</td>\n",
       "      <td>Female</td>\n",
       "      <td>1524923299</td>\n",
       "    </tr>\n",
       "    <tr>\n",
       "      <th>...</th>\n",
       "      <td>...</td>\n",
       "      <td>...</td>\n",
       "      <td>...</td>\n",
       "      <td>...</td>\n",
       "      <td>...</td>\n",
       "      <td>...</td>\n",
       "      <td>...</td>\n",
       "      <td>...</td>\n",
       "      <td>...</td>\n",
       "      <td>...</td>\n",
       "      <td>...</td>\n",
       "      <td>...</td>\n",
       "      <td>...</td>\n",
       "      <td>...</td>\n",
       "      <td>...</td>\n",
       "      <td>...</td>\n",
       "    </tr>\n",
       "    <tr>\n",
       "      <th>88990</th>\n",
       "      <td>4750</td>\n",
       "      <td>272</td>\n",
       "      <td>2</td>\n",
       "      <td>Crack 79+ in PTE Reading | All tips | Grammar ...</td>\n",
       "      <td>pte</td>\n",
       "      <td>reading</td>\n",
       "      <td>explanation</td>\n",
       "      <td>beginner</td>\n",
       "      <td>pte</td>\n",
       "      <td>grammar,writing</td>\n",
       "      <td>example</td>\n",
       "      <td>advanced</td>\n",
       "      <td>50.0</td>\n",
       "      <td>59</td>\n",
       "      <td>Male</td>\n",
       "      <td>1660770091</td>\n",
       "    </tr>\n",
       "    <tr>\n",
       "      <th>88991</th>\n",
       "      <td>4750</td>\n",
       "      <td>276</td>\n",
       "      <td>1</td>\n",
       "      <td>IELTS Listening Strategies - From band 6 to Ba...</td>\n",
       "      <td>ielts</td>\n",
       "      <td>listening</td>\n",
       "      <td>explanation</td>\n",
       "      <td>intermediate</td>\n",
       "      <td>pte</td>\n",
       "      <td>grammar,writing</td>\n",
       "      <td>example</td>\n",
       "      <td>advanced</td>\n",
       "      <td>50.0</td>\n",
       "      <td>59</td>\n",
       "      <td>Male</td>\n",
       "      <td>1452480887</td>\n",
       "    </tr>\n",
       "    <tr>\n",
       "      <th>88992</th>\n",
       "      <td>4750</td>\n",
       "      <td>290</td>\n",
       "      <td>2</td>\n",
       "      <td>PTE Listening Made Easy</td>\n",
       "      <td>pte</td>\n",
       "      <td>listening</td>\n",
       "      <td>explanation</td>\n",
       "      <td>intermediate</td>\n",
       "      <td>pte</td>\n",
       "      <td>grammar,writing</td>\n",
       "      <td>example</td>\n",
       "      <td>advanced</td>\n",
       "      <td>50.0</td>\n",
       "      <td>59</td>\n",
       "      <td>Male</td>\n",
       "      <td>1622625569</td>\n",
       "    </tr>\n",
       "    <tr>\n",
       "      <th>88993</th>\n",
       "      <td>4750</td>\n",
       "      <td>294</td>\n",
       "      <td>1</td>\n",
       "      <td>IELTS Reading for (Academic &amp; General)</td>\n",
       "      <td>ielts</td>\n",
       "      <td>reading</td>\n",
       "      <td>example</td>\n",
       "      <td>intermediate</td>\n",
       "      <td>pte</td>\n",
       "      <td>grammar,writing</td>\n",
       "      <td>example</td>\n",
       "      <td>advanced</td>\n",
       "      <td>50.0</td>\n",
       "      <td>59</td>\n",
       "      <td>Male</td>\n",
       "      <td>1619084651</td>\n",
       "    </tr>\n",
       "    <tr>\n",
       "      <th>88994</th>\n",
       "      <td>4750</td>\n",
       "      <td>321</td>\n",
       "      <td>5</td>\n",
       "      <td>PTE Ultimate Self-Preparation Resource</td>\n",
       "      <td>pte</td>\n",
       "      <td>writing,speaking,reading,listening</td>\n",
       "      <td>example</td>\n",
       "      <td>advanced</td>\n",
       "      <td>pte</td>\n",
       "      <td>grammar,writing</td>\n",
       "      <td>example</td>\n",
       "      <td>advanced</td>\n",
       "      <td>50.0</td>\n",
       "      <td>59</td>\n",
       "      <td>Male</td>\n",
       "      <td>1525428191</td>\n",
       "    </tr>\n",
       "  </tbody>\n",
       "</table>\n",
       "<p>88995 rows × 16 columns</p>\n",
       "</div>"
      ],
      "text/plain": [
       "       user  item  rating                                           cs_title  \\\n",
       "0        35     1       5         Write to Score High on the IELTS and TOEFL   \n",
       "1        35    55       5  IELTS Writing Task 1 (General): Master Letter ...   \n",
       "2        35    59       4                   Father IELTS -- Test Preparation   \n",
       "3        35    67       5                                  Prepare for IELTS   \n",
       "4        35    72       5                                     IELTS Academic   \n",
       "...     ...   ...     ...                                                ...   \n",
       "88990  4750   272       2  Crack 79+ in PTE Reading | All tips | Grammar ...   \n",
       "88991  4750   276       1  IELTS Listening Strategies - From band 6 to Ba...   \n",
       "88992  4750   290       2                            PTE Listening Made Easy   \n",
       "88993  4750   294       1             IELTS Reading for (Academic & General)   \n",
       "88994  4750   321       5             PTE Ultimate Self-Preparation Resource   \n",
       "\n",
       "      cs_category                            cs_topic     cs_style  \\\n",
       "0           ielts                             writing  explanation   \n",
       "1           ielts                             writing  explanation   \n",
       "2           ielts  writing,speaking,reading,listening      example   \n",
       "3           ielts  writing,speaking,reading,listening  explanation   \n",
       "4           ielts  writing,speaking,reading,listening  explanation   \n",
       "...           ...                                 ...          ...   \n",
       "88990         pte                             reading  explanation   \n",
       "88991       ielts                           listening  explanation   \n",
       "88992         pte                           listening  explanation   \n",
       "88993       ielts                             reading      example   \n",
       "88994         pte  writing,speaking,reading,listening      example   \n",
       "\n",
       "           cs_level pf_category         pf_topic     pf_style  pf_level  \\\n",
       "0          beginner       ielts  grammar,writing  explanation  beginner   \n",
       "1          beginner       ielts  grammar,writing  explanation  beginner   \n",
       "2          beginner       ielts  grammar,writing  explanation  beginner   \n",
       "3          beginner       ielts  grammar,writing  explanation  beginner   \n",
       "4          beginner       ielts  grammar,writing  explanation  beginner   \n",
       "...             ...         ...              ...          ...       ...   \n",
       "88990      beginner         pte  grammar,writing      example  advanced   \n",
       "88991  intermediate         pte  grammar,writing      example  advanced   \n",
       "88992  intermediate         pte  grammar,writing      example  advanced   \n",
       "88993  intermediate         pte  grammar,writing      example  advanced   \n",
       "88994      advanced         pte  grammar,writing      example  advanced   \n",
       "\n",
       "       aimscore  age  gender   timestamp  \n",
       "0           7.0   45  Female  1474383913  \n",
       "1           7.0   45  Female  1655916839  \n",
       "2           7.0   45  Female  1645231900  \n",
       "3           7.0   45  Female  1599096320  \n",
       "4           7.0   45  Female  1524923299  \n",
       "...         ...  ...     ...         ...  \n",
       "88990      50.0   59    Male  1660770091  \n",
       "88991      50.0   59    Male  1452480887  \n",
       "88992      50.0   59    Male  1622625569  \n",
       "88993      50.0   59    Male  1619084651  \n",
       "88994      50.0   59    Male  1525428191  \n",
       "\n",
       "[88995 rows x 16 columns]"
      ]
     },
     "execution_count": 7,
     "metadata": {},
     "output_type": "execute_result"
    }
   ],
   "source": [
    "merged_df = pd.merge(cs_data, cs_rating_df, on='item', how='inner')\n",
    "merged_df = pd.merge(merged_df, user_profile_df, on='user', how='inner')\n",
    "\n",
    "desired_order = ['user','item','rating','cs_title','cs_category','cs_topic','cs_style','cs_level','pf_category','pf_topic','pf_style','pf_level','aimscore', 'age','gender','timestamp']\n",
    "merged_df = merged_df[desired_order]\n",
    "\n",
    "merged_df"
   ]
  },
  {
   "cell_type": "code",
   "execution_count": 9,
   "id": "04329f1e-a281-4c8e-8b3c-b5bda2a17436",
   "metadata": {},
   "outputs": [
    {
     "data": {
      "text/html": [
       "<div>\n",
       "<style scoped>\n",
       "    .dataframe tbody tr th:only-of-type {\n",
       "        vertical-align: middle;\n",
       "    }\n",
       "\n",
       "    .dataframe tbody tr th {\n",
       "        vertical-align: top;\n",
       "    }\n",
       "\n",
       "    .dataframe thead th {\n",
       "        text-align: right;\n",
       "    }\n",
       "</style>\n",
       "<table border=\"1\" class=\"dataframe\">\n",
       "  <thead>\n",
       "    <tr style=\"text-align: right;\">\n",
       "      <th></th>\n",
       "      <th>user</th>\n",
       "      <th>item</th>\n",
       "      <th>rating</th>\n",
       "      <th>cs_title</th>\n",
       "      <th>cs_category</th>\n",
       "      <th>cs_topic</th>\n",
       "      <th>cs_style</th>\n",
       "      <th>cs_level</th>\n",
       "      <th>pf_category</th>\n",
       "      <th>pf_topic</th>\n",
       "      <th>pf_style</th>\n",
       "      <th>pf_level</th>\n",
       "      <th>aimscore</th>\n",
       "      <th>age</th>\n",
       "      <th>gender</th>\n",
       "      <th>timestamp</th>\n",
       "    </tr>\n",
       "  </thead>\n",
       "  <tbody>\n",
       "    <tr>\n",
       "      <th>0</th>\n",
       "      <td>1</td>\n",
       "      <td>126</td>\n",
       "      <td>1</td>\n",
       "      <td>PTE Academic (English Test) - Mastering Readin...</td>\n",
       "      <td>pte</td>\n",
       "      <td>reading</td>\n",
       "      <td>explanation</td>\n",
       "      <td>intermediate</td>\n",
       "      <td>ielts</td>\n",
       "      <td>vocabulary,grammar,speaking</td>\n",
       "      <td>example</td>\n",
       "      <td>intermediate</td>\n",
       "      <td>6.0</td>\n",
       "      <td>26</td>\n",
       "      <td>Female</td>\n",
       "      <td>1591605461</td>\n",
       "    </tr>\n",
       "    <tr>\n",
       "      <th>1</th>\n",
       "      <td>1</td>\n",
       "      <td>282</td>\n",
       "      <td>1</td>\n",
       "      <td>PTE academic test listening module</td>\n",
       "      <td>pte</td>\n",
       "      <td>listening</td>\n",
       "      <td>example</td>\n",
       "      <td>beginner</td>\n",
       "      <td>ielts</td>\n",
       "      <td>vocabulary,grammar,speaking</td>\n",
       "      <td>example</td>\n",
       "      <td>intermediate</td>\n",
       "      <td>6.0</td>\n",
       "      <td>26</td>\n",
       "      <td>Female</td>\n",
       "      <td>1643498109</td>\n",
       "    </tr>\n",
       "    <tr>\n",
       "      <th>2</th>\n",
       "      <td>1</td>\n",
       "      <td>290</td>\n",
       "      <td>1</td>\n",
       "      <td>PTE Listening Made Easy</td>\n",
       "      <td>pte</td>\n",
       "      <td>listening</td>\n",
       "      <td>explanation</td>\n",
       "      <td>intermediate</td>\n",
       "      <td>ielts</td>\n",
       "      <td>vocabulary,grammar,speaking</td>\n",
       "      <td>example</td>\n",
       "      <td>intermediate</td>\n",
       "      <td>6.0</td>\n",
       "      <td>26</td>\n",
       "      <td>Female</td>\n",
       "      <td>1568400900</td>\n",
       "    </tr>\n",
       "    <tr>\n",
       "      <th>3</th>\n",
       "      <td>1</td>\n",
       "      <td>316</td>\n",
       "      <td>1</td>\n",
       "      <td>PTE Reading Academic test</td>\n",
       "      <td>pte</td>\n",
       "      <td>reading</td>\n",
       "      <td>example</td>\n",
       "      <td>beginner</td>\n",
       "      <td>ielts</td>\n",
       "      <td>vocabulary,grammar,speaking</td>\n",
       "      <td>example</td>\n",
       "      <td>intermediate</td>\n",
       "      <td>6.0</td>\n",
       "      <td>26</td>\n",
       "      <td>Female</td>\n",
       "      <td>1517927386</td>\n",
       "    </tr>\n",
       "    <tr>\n",
       "      <th>4</th>\n",
       "      <td>1</td>\n",
       "      <td>6</td>\n",
       "      <td>2</td>\n",
       "      <td>IELTS WRITING- GET THE BEST RESULTS</td>\n",
       "      <td>ielts</td>\n",
       "      <td>writing</td>\n",
       "      <td>explanation</td>\n",
       "      <td>beginner</td>\n",
       "      <td>ielts</td>\n",
       "      <td>vocabulary,grammar,speaking</td>\n",
       "      <td>example</td>\n",
       "      <td>intermediate</td>\n",
       "      <td>6.0</td>\n",
       "      <td>26</td>\n",
       "      <td>Female</td>\n",
       "      <td>1623585642</td>\n",
       "    </tr>\n",
       "    <tr>\n",
       "      <th>5</th>\n",
       "      <td>1</td>\n",
       "      <td>61</td>\n",
       "      <td>2</td>\n",
       "      <td>IELTS Writing: Task 2 (expect band 7 - 9)</td>\n",
       "      <td>ielts</td>\n",
       "      <td>writing</td>\n",
       "      <td>example</td>\n",
       "      <td>beginner</td>\n",
       "      <td>ielts</td>\n",
       "      <td>vocabulary,grammar,speaking</td>\n",
       "      <td>example</td>\n",
       "      <td>intermediate</td>\n",
       "      <td>6.0</td>\n",
       "      <td>26</td>\n",
       "      <td>Female</td>\n",
       "      <td>1661541807</td>\n",
       "    </tr>\n",
       "    <tr>\n",
       "      <th>6</th>\n",
       "      <td>1</td>\n",
       "      <td>217</td>\n",
       "      <td>2</td>\n",
       "      <td>IELTS Preparation EP-4 - Listening Section -1</td>\n",
       "      <td>ielts</td>\n",
       "      <td>listening</td>\n",
       "      <td>explanation</td>\n",
       "      <td>intermediate</td>\n",
       "      <td>ielts</td>\n",
       "      <td>vocabulary,grammar,speaking</td>\n",
       "      <td>example</td>\n",
       "      <td>intermediate</td>\n",
       "      <td>6.0</td>\n",
       "      <td>26</td>\n",
       "      <td>Female</td>\n",
       "      <td>1643591923</td>\n",
       "    </tr>\n",
       "    <tr>\n",
       "      <th>7</th>\n",
       "      <td>1</td>\n",
       "      <td>26</td>\n",
       "      <td>3</td>\n",
       "      <td>Succeed in IELTS Speaking</td>\n",
       "      <td>ielts</td>\n",
       "      <td>speaking</td>\n",
       "      <td>explanation</td>\n",
       "      <td>advanced</td>\n",
       "      <td>ielts</td>\n",
       "      <td>vocabulary,grammar,speaking</td>\n",
       "      <td>example</td>\n",
       "      <td>intermediate</td>\n",
       "      <td>6.0</td>\n",
       "      <td>26</td>\n",
       "      <td>Female</td>\n",
       "      <td>1519560159</td>\n",
       "    </tr>\n",
       "    <tr>\n",
       "      <th>8</th>\n",
       "      <td>1</td>\n",
       "      <td>70</td>\n",
       "      <td>3</td>\n",
       "      <td>Complete Guide to IELTS</td>\n",
       "      <td>ielts</td>\n",
       "      <td>writing,speaking,reading,listening</td>\n",
       "      <td>explanation</td>\n",
       "      <td>beginner</td>\n",
       "      <td>ielts</td>\n",
       "      <td>vocabulary,grammar,speaking</td>\n",
       "      <td>example</td>\n",
       "      <td>intermediate</td>\n",
       "      <td>6.0</td>\n",
       "      <td>26</td>\n",
       "      <td>Female</td>\n",
       "      <td>1462182591</td>\n",
       "    </tr>\n",
       "    <tr>\n",
       "      <th>9</th>\n",
       "      <td>1</td>\n",
       "      <td>145</td>\n",
       "      <td>3</td>\n",
       "      <td>IELTS Masterclass Achieve Band 7+ in IELTS Spe...</td>\n",
       "      <td>ielts</td>\n",
       "      <td>speaking</td>\n",
       "      <td>explanation</td>\n",
       "      <td>beginner</td>\n",
       "      <td>ielts</td>\n",
       "      <td>vocabulary,grammar,speaking</td>\n",
       "      <td>example</td>\n",
       "      <td>intermediate</td>\n",
       "      <td>6.0</td>\n",
       "      <td>26</td>\n",
       "      <td>Female</td>\n",
       "      <td>1561306827</td>\n",
       "    </tr>\n",
       "  </tbody>\n",
       "</table>\n",
       "</div>"
      ],
      "text/plain": [
       "   user  item  rating                                           cs_title  \\\n",
       "0     1   126       1  PTE Academic (English Test) - Mastering Readin...   \n",
       "1     1   282       1                 PTE academic test listening module   \n",
       "2     1   290       1                            PTE Listening Made Easy   \n",
       "3     1   316       1                          PTE Reading Academic test   \n",
       "4     1     6       2                IELTS WRITING- GET THE BEST RESULTS   \n",
       "5     1    61       2          IELTS Writing: Task 2 (expect band 7 - 9)   \n",
       "6     1   217       2      IELTS Preparation EP-4 - Listening Section -1   \n",
       "7     1    26       3                          Succeed in IELTS Speaking   \n",
       "8     1    70       3                            Complete Guide to IELTS   \n",
       "9     1   145       3  IELTS Masterclass Achieve Band 7+ in IELTS Spe...   \n",
       "\n",
       "  cs_category                            cs_topic     cs_style      cs_level  \\\n",
       "0         pte                             reading  explanation  intermediate   \n",
       "1         pte                           listening      example      beginner   \n",
       "2         pte                           listening  explanation  intermediate   \n",
       "3         pte                             reading      example      beginner   \n",
       "4       ielts                             writing  explanation      beginner   \n",
       "5       ielts                             writing      example      beginner   \n",
       "6       ielts                           listening  explanation  intermediate   \n",
       "7       ielts                            speaking  explanation      advanced   \n",
       "8       ielts  writing,speaking,reading,listening  explanation      beginner   \n",
       "9       ielts                            speaking  explanation      beginner   \n",
       "\n",
       "  pf_category                     pf_topic pf_style      pf_level  aimscore  \\\n",
       "0       ielts  vocabulary,grammar,speaking  example  intermediate       6.0   \n",
       "1       ielts  vocabulary,grammar,speaking  example  intermediate       6.0   \n",
       "2       ielts  vocabulary,grammar,speaking  example  intermediate       6.0   \n",
       "3       ielts  vocabulary,grammar,speaking  example  intermediate       6.0   \n",
       "4       ielts  vocabulary,grammar,speaking  example  intermediate       6.0   \n",
       "5       ielts  vocabulary,grammar,speaking  example  intermediate       6.0   \n",
       "6       ielts  vocabulary,grammar,speaking  example  intermediate       6.0   \n",
       "7       ielts  vocabulary,grammar,speaking  example  intermediate       6.0   \n",
       "8       ielts  vocabulary,grammar,speaking  example  intermediate       6.0   \n",
       "9       ielts  vocabulary,grammar,speaking  example  intermediate       6.0   \n",
       "\n",
       "   age  gender   timestamp  \n",
       "0   26  Female  1591605461  \n",
       "1   26  Female  1643498109  \n",
       "2   26  Female  1568400900  \n",
       "3   26  Female  1517927386  \n",
       "4   26  Female  1623585642  \n",
       "5   26  Female  1661541807  \n",
       "6   26  Female  1643591923  \n",
       "7   26  Female  1519560159  \n",
       "8   26  Female  1462182591  \n",
       "9   26  Female  1561306827  "
      ]
     },
     "execution_count": 9,
     "metadata": {},
     "output_type": "execute_result"
    }
   ],
   "source": [
    "merged_df = merged_df.sort_values([\"user\",\"rating\"]).fillna(0)\n",
    "merged_df = merged_df.reset_index(drop=True)\n",
    "merged_df.head(10)"
   ]
  },
  {
   "cell_type": "code",
   "execution_count": 10,
   "id": "8b47e52e-1701-47ef-ab66-9d5440229076",
   "metadata": {},
   "outputs": [],
   "source": [
    "df = merged_df\n",
    "\n",
    "cs_category_values = ['ielts', 'pte']\n",
    "cs_topic_values = ['writing', 'speaking', 'reading', 'listening', 'vocabulary', 'grammar']\n",
    "pf_category_values = cs_category_values\n",
    "pf_topic_values = cs_topic_values\n",
    "\n",
    "for category in cs_category_values:\n",
    "    df[f'cs_category_{category}'] = 0\n",
    "\n",
    "for topic in cs_topic_values:\n",
    "    df[f'cs_topic_{topic}'] = 0\n",
    "\n",
    "for category in pf_category_values:\n",
    "    df[f'pf_category_{category}'] = 0\n",
    "\n",
    "for topic in pf_topic_values:\n",
    "    df[f'pf_topic_{topic}'] = 0\n",
    "\n",
    "df['cs_category_ielts'] = df['cs_category'].apply(lambda x: 1 if 'ielts' in x else 0)\n",
    "df['cs_category_pte'] = df['cs_category'].apply(lambda x: 1 if 'pte' in x else 0)\n",
    "\n",
    "df['pf_category_ielts'] = df['pf_category'].apply(lambda x: 1 if 'ielts' in x else 0)\n",
    "df['pf_category_pte'] = df['pf_category'].apply(lambda x: 1 if 'pte' in x else 0)\n",
    "\n",
    "\n",
    "topics = ['writing', 'speaking', 'reading', 'listening', 'vocabulary', 'grammar']\n",
    "for topic in topics:\n",
    "    df[f'cs_topic_{topic}'] = df['cs_topic'].apply(lambda x: 1 if topic in x else 0)\n",
    "    df[f'pf_topic_{topic}'] = df['pf_topic'].apply(lambda x: 1 if topic in x else 0)\n",
    "\n",
    "def generate_age(x):\n",
    "    if x < 10:\n",
    "        return 9\n",
    "    elif x < 20:\n",
    "        return 19\n",
    "    elif x < 30:\n",
    "        return 29\n",
    "    elif x < 40:\n",
    "        return 39\n",
    "    elif x < 50:\n",
    "        return 49\n",
    "    else:\n",
    "        return 59\n",
    "\n",
    "df['age'] = df['age'].apply(generate_age)\n",
    "\n",
    "label_encoder = LabelEncoder()\n",
    "\n",
    "df['cs_style'] = label_encoder.fit_transform(df['cs_style'])\n",
    "df['cs_level'] = label_encoder.fit_transform(df['cs_level'])\n",
    "df['pf_style'] = label_encoder.fit_transform(df['pf_style'])\n",
    "df['pf_level'] = label_encoder.fit_transform(df['pf_level'])\n",
    "df['gender'] = label_encoder.fit_transform(df['gender'])\n",
    "df['aimscore'] = label_encoder.fit_transform(df['aimscore'])\n",
    "df['age'] = label_encoder.fit_transform(df['age'])\n",
    "\n",
    "#Delete Unnecessary Columns\n",
    "df.drop('cs_category', axis=1, inplace=True)\n",
    "df.drop('cs_topic', axis=1, inplace=True)\n",
    "df.drop('pf_category', axis=1, inplace=True)\n",
    "df.drop('pf_topic', axis=1, inplace=True)\n",
    "df.drop('timestamp', axis=1, inplace=True)\n"
   ]
  },
  {
   "cell_type": "code",
   "execution_count": 11,
   "id": "dfbe14db-3bfb-459d-af1b-5b7c07ddd7b1",
   "metadata": {},
   "outputs": [
    {
     "data": {
      "text/html": [
       "<div>\n",
       "<style scoped>\n",
       "    .dataframe tbody tr th:only-of-type {\n",
       "        vertical-align: middle;\n",
       "    }\n",
       "\n",
       "    .dataframe tbody tr th {\n",
       "        vertical-align: top;\n",
       "    }\n",
       "\n",
       "    .dataframe thead th {\n",
       "        text-align: right;\n",
       "    }\n",
       "</style>\n",
       "<table border=\"1\" class=\"dataframe\">\n",
       "  <thead>\n",
       "    <tr style=\"text-align: right;\">\n",
       "      <th></th>\n",
       "      <th>user</th>\n",
       "      <th>item</th>\n",
       "      <th>rating</th>\n",
       "      <th>cs_title</th>\n",
       "      <th>cs_style</th>\n",
       "      <th>cs_level</th>\n",
       "      <th>pf_style</th>\n",
       "      <th>pf_level</th>\n",
       "      <th>aimscore</th>\n",
       "      <th>age</th>\n",
       "      <th>...</th>\n",
       "      <th>cs_topic_vocabulary</th>\n",
       "      <th>cs_topic_grammar</th>\n",
       "      <th>pf_category_ielts</th>\n",
       "      <th>pf_category_pte</th>\n",
       "      <th>pf_topic_writing</th>\n",
       "      <th>pf_topic_speaking</th>\n",
       "      <th>pf_topic_reading</th>\n",
       "      <th>pf_topic_listening</th>\n",
       "      <th>pf_topic_vocabulary</th>\n",
       "      <th>pf_topic_grammar</th>\n",
       "    </tr>\n",
       "  </thead>\n",
       "  <tbody>\n",
       "    <tr>\n",
       "      <th>0</th>\n",
       "      <td>1</td>\n",
       "      <td>126</td>\n",
       "      <td>1</td>\n",
       "      <td>PTE Academic (English Test) - Mastering Readin...</td>\n",
       "      <td>1</td>\n",
       "      <td>2</td>\n",
       "      <td>0</td>\n",
       "      <td>2</td>\n",
       "      <td>2</td>\n",
       "      <td>1</td>\n",
       "      <td>...</td>\n",
       "      <td>0</td>\n",
       "      <td>0</td>\n",
       "      <td>1</td>\n",
       "      <td>0</td>\n",
       "      <td>0</td>\n",
       "      <td>1</td>\n",
       "      <td>0</td>\n",
       "      <td>0</td>\n",
       "      <td>1</td>\n",
       "      <td>1</td>\n",
       "    </tr>\n",
       "    <tr>\n",
       "      <th>1</th>\n",
       "      <td>1</td>\n",
       "      <td>282</td>\n",
       "      <td>1</td>\n",
       "      <td>PTE academic test listening module</td>\n",
       "      <td>0</td>\n",
       "      <td>1</td>\n",
       "      <td>0</td>\n",
       "      <td>2</td>\n",
       "      <td>2</td>\n",
       "      <td>1</td>\n",
       "      <td>...</td>\n",
       "      <td>0</td>\n",
       "      <td>0</td>\n",
       "      <td>1</td>\n",
       "      <td>0</td>\n",
       "      <td>0</td>\n",
       "      <td>1</td>\n",
       "      <td>0</td>\n",
       "      <td>0</td>\n",
       "      <td>1</td>\n",
       "      <td>1</td>\n",
       "    </tr>\n",
       "    <tr>\n",
       "      <th>2</th>\n",
       "      <td>1</td>\n",
       "      <td>290</td>\n",
       "      <td>1</td>\n",
       "      <td>PTE Listening Made Easy</td>\n",
       "      <td>1</td>\n",
       "      <td>2</td>\n",
       "      <td>0</td>\n",
       "      <td>2</td>\n",
       "      <td>2</td>\n",
       "      <td>1</td>\n",
       "      <td>...</td>\n",
       "      <td>0</td>\n",
       "      <td>0</td>\n",
       "      <td>1</td>\n",
       "      <td>0</td>\n",
       "      <td>0</td>\n",
       "      <td>1</td>\n",
       "      <td>0</td>\n",
       "      <td>0</td>\n",
       "      <td>1</td>\n",
       "      <td>1</td>\n",
       "    </tr>\n",
       "    <tr>\n",
       "      <th>3</th>\n",
       "      <td>1</td>\n",
       "      <td>316</td>\n",
       "      <td>1</td>\n",
       "      <td>PTE Reading Academic test</td>\n",
       "      <td>0</td>\n",
       "      <td>1</td>\n",
       "      <td>0</td>\n",
       "      <td>2</td>\n",
       "      <td>2</td>\n",
       "      <td>1</td>\n",
       "      <td>...</td>\n",
       "      <td>0</td>\n",
       "      <td>0</td>\n",
       "      <td>1</td>\n",
       "      <td>0</td>\n",
       "      <td>0</td>\n",
       "      <td>1</td>\n",
       "      <td>0</td>\n",
       "      <td>0</td>\n",
       "      <td>1</td>\n",
       "      <td>1</td>\n",
       "    </tr>\n",
       "    <tr>\n",
       "      <th>4</th>\n",
       "      <td>1</td>\n",
       "      <td>6</td>\n",
       "      <td>2</td>\n",
       "      <td>IELTS WRITING- GET THE BEST RESULTS</td>\n",
       "      <td>1</td>\n",
       "      <td>1</td>\n",
       "      <td>0</td>\n",
       "      <td>2</td>\n",
       "      <td>2</td>\n",
       "      <td>1</td>\n",
       "      <td>...</td>\n",
       "      <td>0</td>\n",
       "      <td>0</td>\n",
       "      <td>1</td>\n",
       "      <td>0</td>\n",
       "      <td>0</td>\n",
       "      <td>1</td>\n",
       "      <td>0</td>\n",
       "      <td>0</td>\n",
       "      <td>1</td>\n",
       "      <td>1</td>\n",
       "    </tr>\n",
       "    <tr>\n",
       "      <th>5</th>\n",
       "      <td>1</td>\n",
       "      <td>61</td>\n",
       "      <td>2</td>\n",
       "      <td>IELTS Writing: Task 2 (expect band 7 - 9)</td>\n",
       "      <td>0</td>\n",
       "      <td>1</td>\n",
       "      <td>0</td>\n",
       "      <td>2</td>\n",
       "      <td>2</td>\n",
       "      <td>1</td>\n",
       "      <td>...</td>\n",
       "      <td>0</td>\n",
       "      <td>0</td>\n",
       "      <td>1</td>\n",
       "      <td>0</td>\n",
       "      <td>0</td>\n",
       "      <td>1</td>\n",
       "      <td>0</td>\n",
       "      <td>0</td>\n",
       "      <td>1</td>\n",
       "      <td>1</td>\n",
       "    </tr>\n",
       "    <tr>\n",
       "      <th>6</th>\n",
       "      <td>1</td>\n",
       "      <td>217</td>\n",
       "      <td>2</td>\n",
       "      <td>IELTS Preparation EP-4 - Listening Section -1</td>\n",
       "      <td>1</td>\n",
       "      <td>2</td>\n",
       "      <td>0</td>\n",
       "      <td>2</td>\n",
       "      <td>2</td>\n",
       "      <td>1</td>\n",
       "      <td>...</td>\n",
       "      <td>0</td>\n",
       "      <td>0</td>\n",
       "      <td>1</td>\n",
       "      <td>0</td>\n",
       "      <td>0</td>\n",
       "      <td>1</td>\n",
       "      <td>0</td>\n",
       "      <td>0</td>\n",
       "      <td>1</td>\n",
       "      <td>1</td>\n",
       "    </tr>\n",
       "    <tr>\n",
       "      <th>7</th>\n",
       "      <td>1</td>\n",
       "      <td>26</td>\n",
       "      <td>3</td>\n",
       "      <td>Succeed in IELTS Speaking</td>\n",
       "      <td>1</td>\n",
       "      <td>0</td>\n",
       "      <td>0</td>\n",
       "      <td>2</td>\n",
       "      <td>2</td>\n",
       "      <td>1</td>\n",
       "      <td>...</td>\n",
       "      <td>0</td>\n",
       "      <td>0</td>\n",
       "      <td>1</td>\n",
       "      <td>0</td>\n",
       "      <td>0</td>\n",
       "      <td>1</td>\n",
       "      <td>0</td>\n",
       "      <td>0</td>\n",
       "      <td>1</td>\n",
       "      <td>1</td>\n",
       "    </tr>\n",
       "    <tr>\n",
       "      <th>8</th>\n",
       "      <td>1</td>\n",
       "      <td>70</td>\n",
       "      <td>3</td>\n",
       "      <td>Complete Guide to IELTS</td>\n",
       "      <td>1</td>\n",
       "      <td>1</td>\n",
       "      <td>0</td>\n",
       "      <td>2</td>\n",
       "      <td>2</td>\n",
       "      <td>1</td>\n",
       "      <td>...</td>\n",
       "      <td>0</td>\n",
       "      <td>0</td>\n",
       "      <td>1</td>\n",
       "      <td>0</td>\n",
       "      <td>0</td>\n",
       "      <td>1</td>\n",
       "      <td>0</td>\n",
       "      <td>0</td>\n",
       "      <td>1</td>\n",
       "      <td>1</td>\n",
       "    </tr>\n",
       "    <tr>\n",
       "      <th>9</th>\n",
       "      <td>1</td>\n",
       "      <td>145</td>\n",
       "      <td>3</td>\n",
       "      <td>IELTS Masterclass Achieve Band 7+ in IELTS Spe...</td>\n",
       "      <td>1</td>\n",
       "      <td>1</td>\n",
       "      <td>0</td>\n",
       "      <td>2</td>\n",
       "      <td>2</td>\n",
       "      <td>1</td>\n",
       "      <td>...</td>\n",
       "      <td>0</td>\n",
       "      <td>0</td>\n",
       "      <td>1</td>\n",
       "      <td>0</td>\n",
       "      <td>0</td>\n",
       "      <td>1</td>\n",
       "      <td>0</td>\n",
       "      <td>0</td>\n",
       "      <td>1</td>\n",
       "      <td>1</td>\n",
       "    </tr>\n",
       "    <tr>\n",
       "      <th>10</th>\n",
       "      <td>1</td>\n",
       "      <td>168</td>\n",
       "      <td>3</td>\n",
       "      <td>Test Your Vocabulary: 400 Must-Learn Words for...</td>\n",
       "      <td>0</td>\n",
       "      <td>1</td>\n",
       "      <td>0</td>\n",
       "      <td>2</td>\n",
       "      <td>2</td>\n",
       "      <td>1</td>\n",
       "      <td>...</td>\n",
       "      <td>1</td>\n",
       "      <td>0</td>\n",
       "      <td>1</td>\n",
       "      <td>0</td>\n",
       "      <td>0</td>\n",
       "      <td>1</td>\n",
       "      <td>0</td>\n",
       "      <td>0</td>\n",
       "      <td>1</td>\n",
       "      <td>1</td>\n",
       "    </tr>\n",
       "    <tr>\n",
       "      <th>11</th>\n",
       "      <td>1</td>\n",
       "      <td>39</td>\n",
       "      <td>4</td>\n",
       "      <td>Master English: Phrasal verbs for IELTS</td>\n",
       "      <td>1</td>\n",
       "      <td>2</td>\n",
       "      <td>0</td>\n",
       "      <td>2</td>\n",
       "      <td>2</td>\n",
       "      <td>1</td>\n",
       "      <td>...</td>\n",
       "      <td>0</td>\n",
       "      <td>0</td>\n",
       "      <td>1</td>\n",
       "      <td>0</td>\n",
       "      <td>0</td>\n",
       "      <td>1</td>\n",
       "      <td>0</td>\n",
       "      <td>0</td>\n",
       "      <td>1</td>\n",
       "      <td>1</td>\n",
       "    </tr>\n",
       "    <tr>\n",
       "      <th>12</th>\n",
       "      <td>1</td>\n",
       "      <td>60</td>\n",
       "      <td>4</td>\n",
       "      <td>IELTS Band 7+: An EXAMINER shares techniques a...</td>\n",
       "      <td>1</td>\n",
       "      <td>2</td>\n",
       "      <td>0</td>\n",
       "      <td>2</td>\n",
       "      <td>2</td>\n",
       "      <td>1</td>\n",
       "      <td>...</td>\n",
       "      <td>0</td>\n",
       "      <td>0</td>\n",
       "      <td>1</td>\n",
       "      <td>0</td>\n",
       "      <td>0</td>\n",
       "      <td>1</td>\n",
       "      <td>0</td>\n",
       "      <td>0</td>\n",
       "      <td>1</td>\n",
       "      <td>1</td>\n",
       "    </tr>\n",
       "    <tr>\n",
       "      <th>13</th>\n",
       "      <td>1</td>\n",
       "      <td>164</td>\n",
       "      <td>4</td>\n",
       "      <td>IELTS Speaking Part 3: How to get Band 7 and h...</td>\n",
       "      <td>1</td>\n",
       "      <td>2</td>\n",
       "      <td>0</td>\n",
       "      <td>2</td>\n",
       "      <td>2</td>\n",
       "      <td>1</td>\n",
       "      <td>...</td>\n",
       "      <td>0</td>\n",
       "      <td>0</td>\n",
       "      <td>1</td>\n",
       "      <td>0</td>\n",
       "      <td>0</td>\n",
       "      <td>1</td>\n",
       "      <td>0</td>\n",
       "      <td>0</td>\n",
       "      <td>1</td>\n",
       "      <td>1</td>\n",
       "    </tr>\n",
       "    <tr>\n",
       "      <th>14</th>\n",
       "      <td>1</td>\n",
       "      <td>318</td>\n",
       "      <td>4</td>\n",
       "      <td>Succeed in IELTS Speaking and Writing (Achieve...</td>\n",
       "      <td>1</td>\n",
       "      <td>2</td>\n",
       "      <td>0</td>\n",
       "      <td>2</td>\n",
       "      <td>2</td>\n",
       "      <td>1</td>\n",
       "      <td>...</td>\n",
       "      <td>0</td>\n",
       "      <td>0</td>\n",
       "      <td>1</td>\n",
       "      <td>0</td>\n",
       "      <td>0</td>\n",
       "      <td>1</td>\n",
       "      <td>0</td>\n",
       "      <td>0</td>\n",
       "      <td>1</td>\n",
       "      <td>1</td>\n",
       "    </tr>\n",
       "  </tbody>\n",
       "</table>\n",
       "<p>15 rows × 27 columns</p>\n",
       "</div>"
      ],
      "text/plain": [
       "    user  item  rating                                           cs_title  \\\n",
       "0      1   126       1  PTE Academic (English Test) - Mastering Readin...   \n",
       "1      1   282       1                 PTE academic test listening module   \n",
       "2      1   290       1                            PTE Listening Made Easy   \n",
       "3      1   316       1                          PTE Reading Academic test   \n",
       "4      1     6       2                IELTS WRITING- GET THE BEST RESULTS   \n",
       "5      1    61       2          IELTS Writing: Task 2 (expect band 7 - 9)   \n",
       "6      1   217       2      IELTS Preparation EP-4 - Listening Section -1   \n",
       "7      1    26       3                          Succeed in IELTS Speaking   \n",
       "8      1    70       3                            Complete Guide to IELTS   \n",
       "9      1   145       3  IELTS Masterclass Achieve Band 7+ in IELTS Spe...   \n",
       "10     1   168       3  Test Your Vocabulary: 400 Must-Learn Words for...   \n",
       "11     1    39       4            Master English: Phrasal verbs for IELTS   \n",
       "12     1    60       4  IELTS Band 7+: An EXAMINER shares techniques a...   \n",
       "13     1   164       4  IELTS Speaking Part 3: How to get Band 7 and h...   \n",
       "14     1   318       4  Succeed in IELTS Speaking and Writing (Achieve...   \n",
       "\n",
       "    cs_style  cs_level  pf_style  pf_level  aimscore  age  ...  \\\n",
       "0          1         2         0         2         2    1  ...   \n",
       "1          0         1         0         2         2    1  ...   \n",
       "2          1         2         0         2         2    1  ...   \n",
       "3          0         1         0         2         2    1  ...   \n",
       "4          1         1         0         2         2    1  ...   \n",
       "5          0         1         0         2         2    1  ...   \n",
       "6          1         2         0         2         2    1  ...   \n",
       "7          1         0         0         2         2    1  ...   \n",
       "8          1         1         0         2         2    1  ...   \n",
       "9          1         1         0         2         2    1  ...   \n",
       "10         0         1         0         2         2    1  ...   \n",
       "11         1         2         0         2         2    1  ...   \n",
       "12         1         2         0         2         2    1  ...   \n",
       "13         1         2         0         2         2    1  ...   \n",
       "14         1         2         0         2         2    1  ...   \n",
       "\n",
       "    cs_topic_vocabulary  cs_topic_grammar  pf_category_ielts  pf_category_pte  \\\n",
       "0                     0                 0                  1                0   \n",
       "1                     0                 0                  1                0   \n",
       "2                     0                 0                  1                0   \n",
       "3                     0                 0                  1                0   \n",
       "4                     0                 0                  1                0   \n",
       "5                     0                 0                  1                0   \n",
       "6                     0                 0                  1                0   \n",
       "7                     0                 0                  1                0   \n",
       "8                     0                 0                  1                0   \n",
       "9                     0                 0                  1                0   \n",
       "10                    1                 0                  1                0   \n",
       "11                    0                 0                  1                0   \n",
       "12                    0                 0                  1                0   \n",
       "13                    0                 0                  1                0   \n",
       "14                    0                 0                  1                0   \n",
       "\n",
       "    pf_topic_writing  pf_topic_speaking  pf_topic_reading  pf_topic_listening  \\\n",
       "0                  0                  1                 0                   0   \n",
       "1                  0                  1                 0                   0   \n",
       "2                  0                  1                 0                   0   \n",
       "3                  0                  1                 0                   0   \n",
       "4                  0                  1                 0                   0   \n",
       "5                  0                  1                 0                   0   \n",
       "6                  0                  1                 0                   0   \n",
       "7                  0                  1                 0                   0   \n",
       "8                  0                  1                 0                   0   \n",
       "9                  0                  1                 0                   0   \n",
       "10                 0                  1                 0                   0   \n",
       "11                 0                  1                 0                   0   \n",
       "12                 0                  1                 0                   0   \n",
       "13                 0                  1                 0                   0   \n",
       "14                 0                  1                 0                   0   \n",
       "\n",
       "    pf_topic_vocabulary  pf_topic_grammar  \n",
       "0                     1                 1  \n",
       "1                     1                 1  \n",
       "2                     1                 1  \n",
       "3                     1                 1  \n",
       "4                     1                 1  \n",
       "5                     1                 1  \n",
       "6                     1                 1  \n",
       "7                     1                 1  \n",
       "8                     1                 1  \n",
       "9                     1                 1  \n",
       "10                    1                 1  \n",
       "11                    1                 1  \n",
       "12                    1                 1  \n",
       "13                    1                 1  \n",
       "14                    1                 1  \n",
       "\n",
       "[15 rows x 27 columns]"
      ]
     },
     "execution_count": 11,
     "metadata": {},
     "output_type": "execute_result"
    }
   ],
   "source": [
    "df.head(15)"
   ]
  },
  {
   "cell_type": "code",
   "execution_count": 12,
   "id": "884d4d46-9da6-408a-89bf-889f29d808e4",
   "metadata": {},
   "outputs": [],
   "source": [
    "def seq_dataset(df, sequence_length):\n",
    "    sequences = []\n",
    "    labels = []\n",
    "    users = []\n",
    "    items = []\n",
    "\n",
    "    for i in range(len(df) - (sequence_length-1)):\n",
    "        sequence = df[i:i+sequence_length].drop(['user', 'item', 'cs_title', 'rating'], axis=1).values\n",
    "        label = df.iloc[i+sequence_length-1]['rating']\n",
    "        user = df.iloc[i+sequence_length-1]['user']\n",
    "        item = df.iloc[i+sequence_length-1]['item']\n",
    "        \n",
    "        sequences.append(sequence)\n",
    "        labels.append(label-1)\n",
    "        users.append(user)\n",
    "        items.append(item)\n",
    "\n",
    "    sequences = torch.tensor(sequences, dtype=torch.float32)\n",
    "    labels = torch.tensor(labels, dtype=torch.float32)\n",
    "    users = torch.tensor(users, dtype=torch.int32)\n",
    "    items = torch.tensor(items, dtype=torch.int32)\n",
    "    \n",
    "    dataset = TensorDataset(sequences, labels, users, items)\n",
    "    \n",
    "    return dataset"
   ]
  },
  {
   "cell_type": "code",
   "execution_count": 13,
   "id": "275875bb-fb67-4c96-b0a8-64b3c260e5c9",
   "metadata": {},
   "outputs": [],
   "source": [
    "class LSTMActorCritic(nn.Module):\n",
    "    def __init__(self, input_size, conv_channels, lstm_hidden_size, num_layers, output_size):\n",
    "        super(LSTMActorCritic, self).__init__()\n",
    "        self.drop_layer = nn.Dropout(p=0.05)\n",
    "        self.lstm_hidden_size = lstm_hidden_size\n",
    "        self.num_layers = num_layers\n",
    "        self.conv1d = nn.Conv1d(input_size, conv_channels, kernel_size=5, padding=2) # 1D Convolutional Layer\n",
    "        self.relu = nn.ReLU()\n",
    "        self.lstm = nn.LSTM(conv_channels, lstm_hidden_size, num_layers, batch_first=True)  # LSTM Layer\n",
    "        self.actor = nn.Sequential(\n",
    "            nn.Linear(lstm_hidden_size, lstm_hidden_size),\n",
    "            nn.ReLU(),\n",
    "            nn.Linear(lstm_hidden_size, 5),\n",
    "            nn.Softmax(dim=1)\n",
    "        )\n",
    "        self.critic = nn.Sequential(\n",
    "            nn.Linear(lstm_hidden_size, lstm_hidden_size),\n",
    "            nn.ReLU(),\n",
    "            nn.Linear(lstm_hidden_size, 1)\n",
    "        )\n",
    "\n",
    "    def forward(self, x):\n",
    "        x = x.permute(0, 2, 1) # Transpose input for Conv1D layer (batch_size, input_size, sequence_length)\n",
    "        x = self.conv1d(x)  \n",
    "        x = x.permute(0, 2, 1) # Transpose back to (batch_size, sequence_length, conv_channels)\n",
    "        h0 = torch.zeros(self.num_layers, x.size(0), self.lstm_hidden_size).to(device)\n",
    "        c0 = torch.zeros(self.num_layers, x.size(0), self.lstm_hidden_size).to(device)\n",
    "        out, (hidden_state, cell_state) = self.lstm(x, (h0, c0))\n",
    "        state = self.drop_layer(out[:, -1, :])\n",
    "        policy_dist = self.actor(state)\n",
    "        value_est = self.critic(state)\n",
    "        return policy_dist, value_est, state"
   ]
  },
  {
   "cell_type": "code",
   "execution_count": 14,
   "id": "b0253bea-6253-4c06-8f6d-a8139fc24918",
   "metadata": {},
   "outputs": [],
   "source": [
    "class Environment:\n",
    "    def __init__(self, dataloader):\n",
    "        self.dataloader = iter(dataloader)\n",
    "        self.data = next(self.dataloader)\n",
    "\n",
    "        self.state = self.data[0].to(device)\n",
    "        self.rating = self.data[1]\n",
    "        self.user = self.data[2]\n",
    "        self.item = self.data[3]\n",
    "                \n",
    "        self.done = 0\n",
    "    def reset(self):\n",
    "        self.rating = self.next_data[1]\n",
    "    def step(self, action):         \n",
    "        accuracy_count = 0\n",
    "        reward = self.rating\n",
    "        \n",
    "        for i in range(len(action)):\n",
    "            if action[i] == reward[i]:\n",
    "                accuracy_count += 1\n",
    "\n",
    "        try:\n",
    "            self.next_data = next(self.dataloader)\n",
    "        except StopIteration:\n",
    "            next_state = 0\n",
    "            self.done = 1\n",
    "        else:\n",
    "            next_state = self.next_data[0]\n",
    "            self.done = 0\n",
    "        \n",
    "        return next_state, reward, accuracy_count, self.done"
   ]
  },
  {
   "cell_type": "code",
   "execution_count": 15,
   "id": "3cb174a4-9c03-4ae4-a2df-f789efaaf6c6",
   "metadata": {},
   "outputs": [
    {
     "name": "stderr",
     "output_type": "stream",
     "text": [
      "C:\\Users\\lgt11\\AppData\\Local\\Temp\\ipykernel_37648\\3489257814.py:18: UserWarning: Creating a tensor from a list of numpy.ndarrays is extremely slow. Please consider converting the list to a single numpy.ndarray with numpy.array() before converting to a tensor. (Triggered internally at C:\\actions-runner\\_work\\pytorch\\pytorch\\builder\\windows\\pytorch\\torch\\csrc\\utils\\tensor_new.cpp:248.)\n",
      "  sequences = torch.tensor(sequences, dtype=torch.float32)\n"
     ]
    }
   ],
   "source": [
    "import torch\n",
    "import torch.nn as nn\n",
    "import torch.optim as optim\n",
    "from torch.utils.data import DataLoader, TensorDataset\n",
    "\n",
    "user_course_rating_df = df  \n",
    "\n",
    "user_df_train, user_df_test = train_test_split(user_course_rating_df, test_size=0.3, random_state=0, shuffle=False)\n",
    "\n",
    "sequence_length = 3\n",
    "\n",
    "seq_data = seq_dataset(user_df_train, sequence_length)\n",
    "\n",
    "\n",
    "batch_size = 128\n",
    "data_loader = DataLoader(seq_data, batch_size=batch_size, shuffle=False)\n",
    "\n",
    "input_size = 23\n",
    "conv_channels = 128\n",
    "hidden_size = 128\n",
    "num_layers = 1\n",
    "output_size = 1\n",
    "\n",
    "device = torch.device('cuda' if torch.cuda.is_available() else 'cpu')\n",
    "model = LSTMActorCritic(input_size, conv_channels, hidden_size, num_layers, output_size).to(device)\n",
    "critic_criterion = nn.MSELoss()\n",
    "actor_criterion = nn.CrossEntropyLoss()\n",
    "optimizer = optim.Adam(model.parameters(), lr=0.00002)"
   ]
  },
  {
   "cell_type": "code",
   "execution_count": 16,
   "id": "7c45b341-3bd4-409e-b147-354bc03c1e48",
   "metadata": {},
   "outputs": [
    {
     "data": {
      "text/plain": [
       "487"
      ]
     },
     "execution_count": 16,
     "metadata": {},
     "output_type": "execute_result"
    }
   ],
   "source": [
    "len(data_loader)"
   ]
  },
  {
   "cell_type": "code",
   "execution_count": 17,
   "id": "c87de8bf-ed83-48c9-bf8f-b422925373fe",
   "metadata": {},
   "outputs": [
    {
     "name": "stderr",
     "output_type": "stream",
     "text": [
      "  2%|▏         | 1/50 [00:07<06:17,  7.70s/it]"
     ]
    },
    {
     "name": "stdout",
     "output_type": "stream",
     "text": [
      "Epoch [1/50], critic_Loss: 3.5621, actor_loss:1.6086100239528522, accuracy:0.20022795132757568\n"
     ]
    },
    {
     "name": "stderr",
     "output_type": "stream",
     "text": [
      "  4%|▍         | 2/50 [00:15<06:13,  7.79s/it]"
     ]
    },
    {
     "name": "stdout",
     "output_type": "stream",
     "text": [
      "Epoch [2/50], critic_Loss: 1.6363, actor_loss:1.5975788655467102, accuracy:0.21075866054515685\n"
     ]
    },
    {
     "name": "stderr",
     "output_type": "stream",
     "text": [
      "  6%|▌         | 3/50 [00:22<05:58,  7.62s/it]"
     ]
    },
    {
     "name": "stdout",
     "output_type": "stream",
     "text": [
      "Epoch [3/50], critic_Loss: 1.1508, actor_loss:1.5542211221718445, accuracy:0.2600089896298199\n"
     ]
    },
    {
     "name": "stderr",
     "output_type": "stream",
     "text": [
      "  8%|▊         | 4/50 [00:30<05:46,  7.53s/it]"
     ]
    },
    {
     "name": "stdout",
     "output_type": "stream",
     "text": [
      "Epoch [4/50], critic_Loss: 0.9809, actor_loss:1.5123204350226713, accuracy:0.31104119176806755\n"
     ]
    },
    {
     "name": "stderr",
     "output_type": "stream",
     "text": [
      " 10%|█         | 5/50 [00:37<05:37,  7.51s/it]"
     ]
    },
    {
     "name": "stdout",
     "output_type": "stream",
     "text": [
      "Epoch [5/50], critic_Loss: 0.8241, actor_loss:1.4731358103683596, accuracy:0.3524095418499374\n"
     ]
    },
    {
     "name": "stderr",
     "output_type": "stream",
     "text": [
      " 12%|█▏        | 6/50 [00:45<05:29,  7.49s/it]"
     ]
    },
    {
     "name": "stdout",
     "output_type": "stream",
     "text": [
      "Epoch [6/50], critic_Loss: 0.7065, actor_loss:1.4370883154918037, accuracy:0.3923010241756831\n"
     ]
    },
    {
     "name": "stderr",
     "output_type": "stream",
     "text": [
      " 14%|█▍        | 7/50 [00:52<05:24,  7.54s/it]"
     ]
    },
    {
     "name": "stdout",
     "output_type": "stream",
     "text": [
      "Epoch [7/50], critic_Loss: 0.6445, actor_loss:1.4078488330331915, accuracy:0.428002696888946\n"
     ]
    },
    {
     "name": "stderr",
     "output_type": "stream",
     "text": [
      " 16%|█▌        | 8/50 [01:00<05:16,  7.54s/it]"
     ]
    },
    {
     "name": "stdout",
     "output_type": "stream",
     "text": [
      "Epoch [8/50], critic_Loss: 0.6046, actor_loss:1.3824489694356428, accuracy:0.45583844350980834\n"
     ]
    },
    {
     "name": "stderr",
     "output_type": "stream",
     "text": [
      " 18%|█▊        | 9/50 [01:08<05:10,  7.56s/it]"
     ]
    },
    {
     "name": "stdout",
     "output_type": "stream",
     "text": [
      "Epoch [9/50], critic_Loss: 0.5707, actor_loss:1.3598538661639548, accuracy:0.4844607827399107\n"
     ]
    },
    {
     "name": "stderr",
     "output_type": "stream",
     "text": [
      " 20%|██        | 10/50 [01:15<05:03,  7.58s/it]"
     ]
    },
    {
     "name": "stdout",
     "output_type": "stream",
     "text": [
      "Epoch [10/50], critic_Loss: 0.5374, actor_loss:1.3401346461239292, accuracy:0.5026166243940027\n"
     ]
    },
    {
     "name": "stderr",
     "output_type": "stream",
     "text": [
      " 22%|██▏       | 11/50 [01:23<04:55,  7.57s/it]"
     ]
    },
    {
     "name": "stdout",
     "output_type": "stream",
     "text": [
      "Epoch [11/50], critic_Loss: 0.5004, actor_loss:1.3238367929106132, accuracy:0.5205477253025974\n"
     ]
    },
    {
     "name": "stderr",
     "output_type": "stream",
     "text": [
      " 24%|██▍       | 12/50 [01:30<04:48,  7.59s/it]"
     ]
    },
    {
     "name": "stdout",
     "output_type": "stream",
     "text": [
      "Epoch [12/50], critic_Loss: 0.4581, actor_loss:1.3094872361091128, accuracy:0.5404693870998812\n"
     ]
    },
    {
     "name": "stderr",
     "output_type": "stream",
     "text": [
      " 26%|██▌       | 13/50 [01:38<04:41,  7.61s/it]"
     ]
    },
    {
     "name": "stdout",
     "output_type": "stream",
     "text": [
      "Epoch [13/50], critic_Loss: 0.4137, actor_loss:1.2954497038706128, accuracy:0.5555270170481909\n"
     ]
    },
    {
     "name": "stderr",
     "output_type": "stream",
     "text": [
      " 28%|██▊       | 14/50 [01:46<04:33,  7.60s/it]"
     ]
    },
    {
     "name": "stdout",
     "output_type": "stream",
     "text": [
      "Epoch [14/50], critic_Loss: 0.3790, actor_loss:1.281576660869058, accuracy:0.57027964169904\n"
     ]
    },
    {
     "name": "stderr",
     "output_type": "stream",
     "text": [
      " 30%|███       | 15/50 [01:53<04:25,  7.59s/it]"
     ]
    },
    {
     "name": "stdout",
     "output_type": "stream",
     "text": [
      "Epoch [15/50], critic_Loss: 0.3551, actor_loss:1.2689489914406495, accuracy:0.587087038880149\n"
     ]
    },
    {
     "name": "stderr",
     "output_type": "stream",
     "text": [
      " 32%|███▏      | 16/50 [02:01<04:16,  7.56s/it]"
     ]
    },
    {
     "name": "stdout",
     "output_type": "stream",
     "text": [
      "Epoch [16/50], critic_Loss: 0.3366, actor_loss:1.2569896416008106, accuracy:0.6032041609143738\n"
     ]
    },
    {
     "name": "stderr",
     "output_type": "stream",
     "text": [
      " 34%|███▍      | 17/50 [02:08<04:08,  7.54s/it]"
     ]
    },
    {
     "name": "stdout",
     "output_type": "stream",
     "text": [
      "Epoch [17/50], critic_Loss: 0.3212, actor_loss:1.2447423119809349, accuracy:0.6148746267698334\n"
     ]
    },
    {
     "name": "stderr",
     "output_type": "stream",
     "text": [
      " 36%|███▌      | 18/50 [02:16<04:01,  7.56s/it]"
     ]
    },
    {
     "name": "stdout",
     "output_type": "stream",
     "text": [
      "Epoch [18/50], critic_Loss: 0.3086, actor_loss:1.2321946035909948, accuracy:0.6288567117218352\n"
     ]
    },
    {
     "name": "stderr",
     "output_type": "stream",
     "text": [
      " 38%|███▊      | 19/50 [02:23<03:54,  7.58s/it]"
     ]
    },
    {
     "name": "stdout",
     "output_type": "stream",
     "text": [
      "Epoch [19/50], critic_Loss: 0.2958, actor_loss:1.2198970405962433, accuracy:0.6424374739140206\n"
     ]
    },
    {
     "name": "stderr",
     "output_type": "stream",
     "text": [
      " 40%|████      | 20/50 [02:31<03:49,  7.64s/it]"
     ]
    },
    {
     "name": "stdout",
     "output_type": "stream",
     "text": [
      "Epoch [20/50], critic_Loss: 0.2838, actor_loss:1.2085836423251173, accuracy:0.6565961408803416\n"
     ]
    },
    {
     "name": "stderr",
     "output_type": "stream",
     "text": [
      " 42%|████▏     | 21/50 [02:39<03:40,  7.60s/it]"
     ]
    },
    {
     "name": "stdout",
     "output_type": "stream",
     "text": [
      "Epoch [21/50], critic_Loss: 0.2717, actor_loss:1.1977140049180455, accuracy:0.6663081516678974\n"
     ]
    },
    {
     "name": "stderr",
     "output_type": "stream",
     "text": [
      " 44%|████▍     | 22/50 [02:46<03:33,  7.61s/it]"
     ]
    },
    {
     "name": "stdout",
     "output_type": "stream",
     "text": [
      "Epoch [22/50], critic_Loss: 0.2604, actor_loss:1.1878839672468526, accuracy:0.6805631360965743\n"
     ]
    },
    {
     "name": "stderr",
     "output_type": "stream",
     "text": [
      " 46%|████▌     | 23/50 [02:54<03:24,  7.58s/it]"
     ]
    },
    {
     "name": "stdout",
     "output_type": "stream",
     "text": [
      "Epoch [23/50], critic_Loss: 0.2482, actor_loss:1.1778986571505818, accuracy:0.6891835489774296\n"
     ]
    },
    {
     "name": "stderr",
     "output_type": "stream",
     "text": [
      " 48%|████▊     | 24/50 [03:01<03:15,  7.52s/it]"
     ]
    },
    {
     "name": "stdout",
     "output_type": "stream",
     "text": [
      "Epoch [24/50], critic_Loss: 0.2370, actor_loss:1.1679540970487026, accuracy:0.7018653481876265\n"
     ]
    },
    {
     "name": "stderr",
     "output_type": "stream",
     "text": [
      " 50%|█████     | 25/50 [03:09<03:08,  7.52s/it]"
     ]
    },
    {
     "name": "stdout",
     "output_type": "stream",
     "text": [
      "Epoch [25/50], critic_Loss: 0.2260, actor_loss:1.1576419997753793, accuracy:0.7107426076347642\n"
     ]
    },
    {
     "name": "stderr",
     "output_type": "stream",
     "text": [
      " 52%|█████▏    | 26/50 [03:16<02:59,  7.47s/it]"
     ]
    },
    {
     "name": "stdout",
     "output_type": "stream",
     "text": [
      "Epoch [26/50], critic_Loss: 0.2142, actor_loss:1.1463891101324093, accuracy:0.7245962693036248\n"
     ]
    },
    {
     "name": "stderr",
     "output_type": "stream",
     "text": [
      " 54%|█████▍    | 27/50 [03:23<02:51,  7.45s/it]"
     ]
    },
    {
     "name": "stdout",
     "output_type": "stream",
     "text": [
      "Epoch [27/50], critic_Loss: 0.2038, actor_loss:1.1343421703491368, accuracy:0.740552862233923\n"
     ]
    },
    {
     "name": "stderr",
     "output_type": "stream",
     "text": [
      " 56%|█████▌    | 28/50 [03:31<02:44,  7.46s/it]"
     ]
    },
    {
     "name": "stdout",
     "output_type": "stream",
     "text": [
      "Epoch [28/50], critic_Loss: 0.1932, actor_loss:1.1215448372173114, accuracy:0.7533791376376537\n"
     ]
    },
    {
     "name": "stderr",
     "output_type": "stream",
     "text": [
      " 58%|█████▊    | 29/50 [03:39<02:37,  7.49s/it]"
     ]
    },
    {
     "name": "stdout",
     "output_type": "stream",
     "text": [
      "Epoch [29/50], critic_Loss: 0.1843, actor_loss:1.1079130153146857, accuracy:0.7660769897582431\n"
     ]
    },
    {
     "name": "stderr",
     "output_type": "stream",
     "text": [
      " 60%|██████    | 30/50 [03:46<02:29,  7.46s/it]"
     ]
    },
    {
     "name": "stdout",
     "output_type": "stream",
     "text": [
      "Epoch [30/50], critic_Loss: 0.1746, actor_loss:1.0930644758428147, accuracy:0.7831091276848493\n"
     ]
    },
    {
     "name": "stderr",
     "output_type": "stream",
     "text": [
      " 62%|██████▏   | 31/50 [03:53<02:22,  7.49s/it]"
     ]
    },
    {
     "name": "stdout",
     "output_type": "stream",
     "text": [
      "Epoch [31/50], critic_Loss: 0.1653, actor_loss:1.079082969522574, accuracy:0.7979099110668765\n"
     ]
    },
    {
     "name": "stderr",
     "output_type": "stream",
     "text": [
      " 64%|██████▍   | 32/50 [04:01<02:14,  7.45s/it]"
     ]
    },
    {
     "name": "stdout",
     "output_type": "stream",
     "text": [
      "Epoch [32/50], critic_Loss: 0.1567, actor_loss:1.0656823059371854, accuracy:0.8146049378752368\n"
     ]
    },
    {
     "name": "stderr",
     "output_type": "stream",
     "text": [
      " 66%|██████▌   | 33/50 [04:08<02:07,  7.50s/it]"
     ]
    },
    {
     "name": "stdout",
     "output_type": "stream",
     "text": [
      "Epoch [33/50], critic_Loss: 0.1480, actor_loss:1.053812396966946, accuracy:0.8275435836517161\n"
     ]
    },
    {
     "name": "stderr",
     "output_type": "stream",
     "text": [
      " 68%|██████▊   | 34/50 [04:16<01:59,  7.45s/it]"
     ]
    },
    {
     "name": "stdout",
     "output_type": "stream",
     "text": [
      "Epoch [34/50], critic_Loss: 0.1402, actor_loss:1.0421186138472274, accuracy:0.8431470125533759\n"
     ]
    },
    {
     "name": "stderr",
     "output_type": "stream",
     "text": [
      " 70%|███████   | 35/50 [04:23<01:51,  7.47s/it]"
     ]
    },
    {
     "name": "stdout",
     "output_type": "stream",
     "text": [
      "Epoch [35/50], critic_Loss: 0.1324, actor_loss:1.0313867873969265, accuracy:0.8537098275917424\n"
     ]
    },
    {
     "name": "stderr",
     "output_type": "stream",
     "text": [
      " 72%|███████▏  | 36/50 [04:31<01:44,  7.46s/it]"
     ]
    },
    {
     "name": "stdout",
     "output_type": "stream",
     "text": [
      "Epoch [36/50], critic_Loss: 0.1247, actor_loss:1.0213306093362813, accuracy:0.8656852987446624\n"
     ]
    },
    {
     "name": "stderr",
     "output_type": "stream",
     "text": [
      " 74%|███████▍  | 37/50 [04:38<01:36,  7.45s/it]"
     ]
    },
    {
     "name": "stdout",
     "output_type": "stream",
     "text": [
      "Epoch [37/50], critic_Loss: 0.1175, actor_loss:1.011944405474457, accuracy:0.876986547661091\n"
     ]
    },
    {
     "name": "stderr",
     "output_type": "stream",
     "text": [
      " 76%|███████▌  | 38/50 [04:46<01:30,  7.53s/it]"
     ]
    },
    {
     "name": "stdout",
     "output_type": "stream",
     "text": [
      "Epoch [38/50], critic_Loss: 0.1108, actor_loss:1.0029414957064133, accuracy:0.886361447330401\n"
     ]
    },
    {
     "name": "stderr",
     "output_type": "stream",
     "text": [
      " 78%|███████▊  | 39/50 [04:53<01:22,  7.51s/it]"
     ]
    },
    {
     "name": "stdout",
     "output_type": "stream",
     "text": [
      "Epoch [39/50], critic_Loss: 0.1041, actor_loss:0.9951640437271071, accuracy:0.8943076379747649\n"
     ]
    },
    {
     "name": "stderr",
     "output_type": "stream",
     "text": [
      " 80%|████████  | 40/50 [05:01<01:14,  7.48s/it]"
     ]
    },
    {
     "name": "stdout",
     "output_type": "stream",
     "text": [
      "Epoch [40/50], critic_Loss: 0.0977, actor_loss:0.9865686782086899, accuracy:0.9041320191350692\n"
     ]
    },
    {
     "name": "stderr",
     "output_type": "stream",
     "text": [
      " 82%|████████▏ | 41/50 [05:08<01:07,  7.45s/it]"
     ]
    },
    {
     "name": "stdout",
     "output_type": "stream",
     "text": [
      "Epoch [41/50], critic_Loss: 0.0914, actor_loss:0.9788952085516536, accuracy:0.9139403473849809\n"
     ]
    },
    {
     "name": "stderr",
     "output_type": "stream",
     "text": [
      " 84%|████████▍ | 42/50 [05:16<00:59,  7.44s/it]"
     ]
    },
    {
     "name": "stdout",
     "output_type": "stream",
     "text": [
      "Epoch [42/50], critic_Loss: 0.0865, actor_loss:0.9713759649950376, accuracy:0.9229620830256525\n"
     ]
    },
    {
     "name": "stderr",
     "output_type": "stream",
     "text": [
      " 86%|████████▌ | 43/50 [05:23<00:52,  7.44s/it]"
     ]
    },
    {
     "name": "stdout",
     "output_type": "stream",
     "text": [
      "Epoch [43/50], critic_Loss: 0.0803, actor_loss:0.9637027530944323, accuracy:0.9314540726233667\n"
     ]
    },
    {
     "name": "stderr",
     "output_type": "stream",
     "text": [
      " 88%|████████▊ | 44/50 [05:30<00:44,  7.43s/it]"
     ]
    },
    {
     "name": "stdout",
     "output_type": "stream",
     "text": [
      "Epoch [44/50], critic_Loss: 0.0766, actor_loss:0.9571232319612523, accuracy:0.9387902526728096\n"
     ]
    },
    {
     "name": "stderr",
     "output_type": "stream",
     "text": [
      " 90%|█████████ | 45/50 [05:38<00:37,  7.46s/it]"
     ]
    },
    {
     "name": "stdout",
     "output_type": "stream",
     "text": [
      "Epoch [45/50], critic_Loss: 0.0725, actor_loss:0.9513687979758887, accuracy:0.9450508877259447\n"
     ]
    },
    {
     "name": "stderr",
     "output_type": "stream",
     "text": [
      " 92%|█████████▏| 46/50 [05:45<00:29,  7.46s/it]"
     ]
    },
    {
     "name": "stdout",
     "output_type": "stream",
     "text": [
      "Epoch [46/50], critic_Loss: 0.0683, actor_loss:0.9457954585674607, accuracy:0.952836549266382\n"
     ]
    },
    {
     "name": "stderr",
     "output_type": "stream",
     "text": [
      " 94%|█████████▍| 47/50 [05:53<00:22,  7.50s/it]"
     ]
    },
    {
     "name": "stdout",
     "output_type": "stream",
     "text": [
      "Epoch [47/50], critic_Loss: 0.0651, actor_loss:0.9417437007784598, accuracy:0.9572832054451472\n"
     ]
    },
    {
     "name": "stderr",
     "output_type": "stream",
     "text": [
      " 96%|█████████▌| 48/50 [06:01<00:15,  7.52s/it]"
     ]
    },
    {
     "name": "stdout",
     "output_type": "stream",
     "text": [
      "Epoch [48/50], critic_Loss: 0.0621, actor_loss:0.9383485068775546, accuracy:0.9612161684913475\n"
     ]
    },
    {
     "name": "stderr",
     "output_type": "stream",
     "text": [
      " 98%|█████████▊| 49/50 [06:08<00:07,  7.49s/it]"
     ]
    },
    {
     "name": "stdout",
     "output_type": "stream",
     "text": [
      "Epoch [49/50], critic_Loss: 0.0593, actor_loss:0.9359133739246235, accuracy:0.9643785918387003\n"
     ]
    },
    {
     "name": "stderr",
     "output_type": "stream",
     "text": [
      "100%|██████████| 50/50 [06:15<00:00,  7.52s/it]"
     ]
    },
    {
     "name": "stdout",
     "output_type": "stream",
     "text": [
      "Epoch [50/50], critic_Loss: 0.0566, actor_loss:0.9332701927337803, accuracy:0.9667062638456352\n"
     ]
    },
    {
     "name": "stderr",
     "output_type": "stream",
     "text": [
      "\n"
     ]
    },
    {
     "data": {
      "image/png": "[encoded data removed]",
      "text/plain": [
       "<Figure size 640x480 with 1 Axes>"
      ]
     },
     "metadata": {},
     "output_type": "display_data"
    },
    {
     "data": {
      "image/png": "[encoded data removed]",
      "text/plain": [
       "<Figure size 640x480 with 1 Axes>"
      ]
     },
     "metadata": {},
     "output_type": "display_data"
    },
    {
     "data": {
      "image/png": "[encoded data removed]",
      "text/plain": [
       "<Figure size 640x480 with 1 Axes>"
      ]
     },
     "metadata": {},
     "output_type": "display_data"
    }
   ],
   "source": [
    "# training loop \n",
    "critic_losses = []\n",
    "actor_losses = []\n",
    "accuracies = []\n",
    "num_epochs = 50\n",
    "for epoch in tqdm.tqdm(range(num_epochs)):\n",
    "    env = Environment(data_loader)\n",
    "    total_critic_loss = 0\n",
    "    total_actor_loss = 0\n",
    "    total_count = 0\n",
    "    done = env.done\n",
    "    state = env.state\n",
    "\n",
    "    while not done:\n",
    "        optimizer.zero_grad()\n",
    "        policy_dist, value_est, st = model(state)\n",
    "\n",
    "        action = torch.multinomial(policy_dist, 1)\n",
    "        next_state, reward, count, done = env.step(action)\n",
    "        \n",
    "        actor_loss = actor_criterion(policy_dist, reward.long())\n",
    "        critic_loss = critic_criterion(value_est, reward.unsqueeze(1))\n",
    "\n",
    "        actor_loss.backward(retain_graph=True)\n",
    "        critic_loss.backward()\n",
    "        \n",
    "        optimizer.step()\n",
    "    \n",
    "        total_critic_loss += critic_loss.item()\n",
    "        total_actor_loss += actor_loss.item()\n",
    "        total_count += count\n",
    "\n",
    "        if done == 0:\n",
    "            state = next_state\n",
    "            env.reset()\n",
    "    \n",
    "    average_critic_loss = total_critic_loss / len(data_loader)\n",
    "    average_actor_loss = total_actor_loss / len(data_loader)\n",
    "    accuracy = total_count / (((len(data_loader)-1) * 128) + 86)\n",
    "    critic_losses.append(average_critic_loss)\n",
    "    actor_losses.append(average_actor_loss)\n",
    "    accuracies.append(accuracy)\n",
    "    print(f'Epoch [{epoch + 1}/{num_epochs}], critic_Loss: {average_critic_loss:.4f}, actor_loss:{average_actor_loss}, accuracy:{accuracy}')\n",
    "# critic loss\n",
    "plt.figure()\n",
    "plt.plot(range(num_epochs), critic_losses)\n",
    "plt.xlabel('Epoch')\n",
    "plt.ylabel('Critic Loss')\n",
    "plt.title('Critic Loss over Epochs')\n",
    "\n",
    "# Actor Loss \n",
    "plt.figure()\n",
    "plt.plot(range(num_epochs), actor_losses)\n",
    "plt.xlabel('Epoch')\n",
    "plt.ylabel('Actor Loss')\n",
    "plt.title('Actor Loss over Epochs')\n",
    "\n",
    "# accuracy\n",
    "plt.figure()\n",
    "plt.plot(range(num_epochs), accuracies, label='Accuracy')\n",
    "plt.xlabel('Epoch')\n",
    "plt.ylabel('Accuracy')\n",
    "plt.title('Accuracy over Epochs')\n",
    "\n",
    "plt.show()"
   ]
  },
  {
   "cell_type": "code",
   "execution_count": 18,
   "id": "8dade605-ca30-40a5-854d-1912590bb77b",
   "metadata": {},
   "outputs": [],
   "source": [
    "folder_path = 'trained_model'\n",
    "#model save\n",
    "torch.save({\n",
    "    'drl_model_state_dict': model.state_dict(),\n",
    "    'drl_optimizer_state_dict': optimizer.state_dict(),\n",
    "},  os.path.join(folder_path, 'drl_model_1.pth'))"
   ]
  },
  {
   "cell_type": "markdown",
   "id": "31f87ede",
   "metadata": {},
   "source": [
    "Model evaluation part"
   ]
  },
  {
   "cell_type": "code",
   "execution_count": 19,
   "id": "0b9f2734-182b-4398-b17e-ef6717ba1f07",
   "metadata": {},
   "outputs": [],
   "source": [
    "user_course_rating_df = df\n",
    "\n",
    "user_df_train, user_df_test = train_test_split(user_course_rating_df, test_size=0.3, random_state=0, shuffle=False)\n",
    "\n",
    "sequence_length = 3\n",
    "\n",
    "test_lstm_seq_data = seq_dataset(user_df_test, sequence_length)\n",
    "\n",
    "batch_size = 128\n",
    "test_lstm_data_loader = DataLoader(test_lstm_seq_data, batch_size=batch_size, shuffle=False)"
   ]
  },
  {
   "cell_type": "code",
   "execution_count": 20,
   "id": "44b7dc1a-9a20-43b7-8e58-348de74bafdb",
   "metadata": {},
   "outputs": [],
   "source": [
    "device = torch.device('cuda' if torch.cuda.is_available() else 'cpu')\n",
    "\n",
    "input_size = 23\n",
    "conv_channels = 128\n",
    "hidden_size = 128\n",
    "num_layers = 1\n",
    "output_size = 1\n",
    "\n",
    "t_model = LSTMActorCritic(input_size, conv_channels, hidden_size, num_layers, output_size).to(device)\n",
    "t_optimizer = optim.Adam(t_model.parameters(), lr=0.00002)\n",
    "\n",
    "checkpoint = torch.load('trained_model/drl_model_1.pth')\n",
    "t_model.load_state_dict(checkpoint['drl_model_state_dict'])\n",
    "t_optimizer.load_state_dict(checkpoint['drl_optimizer_state_dict'])\n"
   ]
  },
  {
   "cell_type": "code",
   "execution_count": 21,
   "id": "16941360-0de0-4464-aa87-a7061c9d12b2",
   "metadata": {},
   "outputs": [
    {
     "data": {
      "text/plain": [
       "209"
      ]
     },
     "execution_count": 21,
     "metadata": {},
     "output_type": "execute_result"
    }
   ],
   "source": [
    "len(test_lstm_data_loader)"
   ]
  },
  {
   "cell_type": "code",
   "execution_count": 22,
   "id": "8b3374b6-df08-45d2-8c74-50ae62e116c1",
   "metadata": {},
   "outputs": [
    {
     "name": "stdout",
     "output_type": "stream",
     "text": [
      "last_num:73\n",
      "Total accuracy: 0.9800, Total RMSE: 0.1834, Total MAE: 0.0240, Total F1 score: 0.9800\n"
     ]
    },
    {
     "data": {
      "image/png": "[encoded data removed]",
      "text/plain": [
       "<Figure size 640x480 with 1 Axes>"
      ]
     },
     "metadata": {},
     "output_type": "display_data"
    },
    {
     "data": {
      "image/png": "[encoded data removed]",
      "text/plain": [
       "<Figure size 640x480 with 1 Axes>"
      ]
     },
     "metadata": {},
     "output_type": "display_data"
    },
    {
     "data": {
      "image/png": "[encoded data removed]",
      "text/plain": [
       "<Figure size 640x480 with 1 Axes>"
      ]
     },
     "metadata": {},
     "output_type": "display_data"
    },
    {
     "data": {
      "image/png": "[encoded data removed]",
      "text/plain": [
       "<Figure size 640x480 with 1 Axes>"
      ]
     },
     "metadata": {},
     "output_type": "display_data"
    }
   ],
   "source": [
    "import torch\n",
    "from sklearn.metrics import mean_squared_error, mean_absolute_error, f1_score\n",
    "\n",
    "total_count = 0\n",
    "total_size = 0\n",
    "true_labels = []\n",
    "predicted_labels = []\n",
    "batch_acc = []\n",
    "batch_rmse = []\n",
    "batch_mae = []\n",
    "batch_f1score = []\n",
    "check_batch_num = 0\n",
    "\n",
    "\n",
    "# model evaluation\n",
    "t_model.eval()  \n",
    "with torch.no_grad():\n",
    "    env = Environment(test_lstm_data_loader)\n",
    "    done = env.done\n",
    "    state = env.state\n",
    "    while not done:\n",
    "        check_batch_num += 1\n",
    "        policy_dist, value_est, st = t_model(state)\n",
    "\n",
    "        action = torch.argmax(policy_dist, dim=1)\n",
    "\n",
    "        next_state, reward, count, done = env.step(action)\n",
    "        total_count += count\n",
    "        total_size += policy_dist.size(0)\n",
    "        \n",
    "        true_labels.extend(reward.cpu().numpy())\n",
    "        predicted_labels.extend(action.cpu().numpy())\n",
    "\n",
    "        batch_accuracy = count / policy_dist.size(0)\n",
    "        batch_RMSE = mean_squared_error(reward, action, squared=False)\n",
    "        batch_MAE = mean_absolute_error(reward, action)\n",
    "        batch_F1 = f1_score(reward, action, average='micro')\n",
    "\n",
    "        batch_acc.append(batch_accuracy)\n",
    "        batch_rmse.append(batch_RMSE)\n",
    "        batch_mae.append(batch_MAE)\n",
    "        batch_f1score.append(batch_F1)\n",
    "\n",
    "        if done == 1:\n",
    "            last_num = policy_dist.size(0)\n",
    "            print(f'last_num:{last_num}')\n",
    "        if done == 0:\n",
    "            env.reset()\n",
    "            state = next_state\n",
    "            \n",
    "    # accuracy\n",
    "    eval_accuracy = total_count / (((len(test_lstm_data_loader)-1)*128)+last_num)\n",
    "    # RMSE\n",
    "    rmse = mean_squared_error(true_labels, predicted_labels, squared=False)\n",
    "    # MAE\n",
    "    mae = mean_absolute_error(true_labels, predicted_labels)\n",
    "    # F1 score\n",
    "    f1 = f1_score(true_labels, predicted_labels, average='micro')\n",
    "\n",
    "    print(f'Total accuracy: {eval_accuracy:.4f}, Total RMSE: {rmse:.4f}, Total MAE: {mae:.4f}, Total F1 score: {f1:.4f}')\n",
    "\n",
    "# accuracy\n",
    "plt.figure()\n",
    "plt.plot(range(check_batch_num), batch_acc)\n",
    "plt.xlabel('batch num')\n",
    "plt.ylabel('Accuracy')\n",
    "plt.title('Accuracy over Batch number')\n",
    "plt.ylim(0.5, 1.5)\n",
    "\n",
    "# RMSE\n",
    "plt.figure()\n",
    "plt.plot(range(check_batch_num), batch_rmse)\n",
    "plt.xlabel('batch num')\n",
    "plt.ylabel('RMSE')\n",
    "plt.title('RMSE over Batch number')\n",
    "plt.ylim(-1, 1)\n",
    "\n",
    "# MAE\n",
    "plt.figure()\n",
    "plt.plot(range(check_batch_num), batch_mae)\n",
    "plt.xlabel('batch num')\n",
    "plt.ylabel('MAE')\n",
    "plt.title('MAE over Batch number')\n",
    "plt.ylim(-0.3, 0.3)\n",
    "\n",
    "# F1 score\n",
    "plt.figure()\n",
    "plt.plot(range(check_batch_num), batch_f1score)\n",
    "plt.xlabel('batch num')\n",
    "plt.ylabel('F1 Score')\n",
    "plt.title('F1 Score over Batch number')\n",
    "plt.ylim(0.5, 1.5)\n",
    "\n",
    "plt.show()\n"
   ]
  }
 ],
 "metadata": {
  "kernelspec": {
   "display_name": "Python 3 (ipykernel)",
   "language": "python",
   "name": "python3"
  },
  "language_info": {
   "codemirror_mode": {
    "name": "ipython",
    "version": 3
   },
   "file_extension": ".py",
   "mimetype": "text/x-python",
   "name": "python",
   "nbconvert_exporter": "python",
   "pygments_lexer": "ipython3",
   "version": "3.8.10"
  }
 },
 "nbformat": 4,
 "nbformat_minor": 5
}
